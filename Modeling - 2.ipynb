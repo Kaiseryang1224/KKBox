{
 "cells": [
  {
   "cell_type": "markdown",
   "metadata": {
    "id": "urEvVVLLqK9d"
   },
   "source": [
    "# Neural Network Modeling\n",
    "\n",
    "## Second Neural Network Model"
   ]
  },
  {
   "cell_type": "code",
   "execution_count": null,
   "metadata": {
    "colab": {
     "base_uri": "https://localhost:8080/"
    },
    "id": "kNdxn8gl-EEP",
    "outputId": "d268ce60-bc60-4b66-c896-3476742f3443"
   },
   "outputs": [
    {
     "data": {
      "text/plain": [
       "[name: \"/device:CPU:0\"\n",
       " device_type: \"CPU\"\n",
       " memory_limit: 268435456\n",
       " locality {\n",
       " }\n",
       " incarnation: 13366974311144784228, name: \"/device:XLA_CPU:0\"\n",
       " device_type: \"XLA_CPU\"\n",
       " memory_limit: 17179869184\n",
       " locality {\n",
       " }\n",
       " incarnation: 10643729511497162273\n",
       " physical_device_desc: \"device: XLA_CPU device\", name: \"/device:XLA_GPU:0\"\n",
       " device_type: \"XLA_GPU\"\n",
       " memory_limit: 17179869184\n",
       " locality {\n",
       " }\n",
       " incarnation: 15458586394065018191\n",
       " physical_device_desc: \"device: XLA_GPU device\", name: \"/device:GPU:0\"\n",
       " device_type: \"GPU\"\n",
       " memory_limit: 14640891840\n",
       " locality {\n",
       "   bus_id: 1\n",
       "   links {\n",
       "   }\n",
       " }\n",
       " incarnation: 15797905534949671217\n",
       " physical_device_desc: \"device: 0, name: Tesla T4, pci bus id: 0000:00:04.0, compute capability: 7.5\"]"
      ]
     },
     "execution_count": 1,
     "metadata": {
      "tags": []
     },
     "output_type": "execute_result"
    }
   ],
   "source": [
    "# getting device info\n",
    "from tensorflow.python.client import device_lib\n",
    "device_lib.list_local_devices()"
   ]
  },
  {
   "cell_type": "code",
   "execution_count": null,
   "metadata": {
    "id": "XBQdJEyX1tdK"
   },
   "outputs": [],
   "source": [
    "# loading library\n",
    "import warnings\n",
    "warnings.filterwarnings(\"ignore\")\n",
    "\n",
    "import numpy as np\n",
    "import pandas as pd\n",
    "import joblib\n",
    "import matplotlib.pyplot as plt\n",
    "import seaborn as sns\n",
    "from prettytable import PrettyTable\n",
    "\n",
    "from sklearn.metrics import log_loss\n",
    "\n",
    "import tensorflow as tf\n",
    "from tensorflow.keras.models import Model\n",
    "from tensorflow.keras.layers import Input, LSTM, Flatten, Concatenate, Dense, Dropout, BatchNormalization\n",
    "from tensorflow.keras.callbacks import ModelCheckpoint\n",
    "from tensorflow.keras.callbacks import EarlyStopping\n",
    "from tensorflow.keras.models import load_model"
   ]
  },
  {
   "cell_type": "code",
   "execution_count": null,
   "metadata": {
    "colab": {
     "base_uri": "https://localhost:8080/"
    },
    "id": "nY6S8R_O2S6n",
    "outputId": "8951f971-02f0-42c2-ad12-67093433d407"
   },
   "outputs": [
    {
     "name": "stdout",
     "output_type": "stream",
     "text": [
      "(776768, 57) (776768,)\n",
      "(194192, 57) (194192,)\n",
      "(907471, 57)\n"
     ]
    }
   ],
   "source": [
    "# reference: https://machinelearningmastery.com/how-to-save-a-numpy-array-to-file-for-machine-learning/\n",
    "X_train = np.load('drive/My Drive/KKBox/actual_train.npz')['arr_0']\n",
    "y_train = np.load('drive/My Drive/KKBox/actual_train_labels.npz')['arr_0']\n",
    "X_cv = np.load('drive/My Drive/KKBox/actual_cv.npz')['arr_0']\n",
    "y_cv = np.load('drive/My Drive/KKBox/actual_cv_labels.npz')['arr_0']\n",
    "test_data = np.load('drive/My Drive/KKBox/actual_test.npz')['arr_0']\n",
    "\n",
    "# getting shapes\n",
    "print(X_train.shape, y_train.shape)\n",
    "print(X_cv.shape, y_cv.shape)\n",
    "print(test_data.shape)"
   ]
  },
  {
   "cell_type": "code",
   "execution_count": null,
   "metadata": {
    "colab": {
     "base_uri": "https://localhost:8080/"
    },
    "id": "xbfVnKTC3L8B",
    "outputId": "7d2a1179-09f6-46aa-e607-c9d14bbb1001"
   },
   "outputs": [
    {
     "name": "stdout",
     "output_type": "stream",
     "text": [
      "Model: \"functional_1\"\n",
      "_________________________________________________________________\n",
      "Layer (type)                 Output Shape              Param #   \n",
      "=================================================================\n",
      "input_1 (InputLayer)         [(None, 57)]              0         \n",
      "_________________________________________________________________\n",
      "dense (Dense)                (None, 64)                3712      \n",
      "_________________________________________________________________\n",
      "batch_normalization (BatchNo (None, 64)                256       \n",
      "_________________________________________________________________\n",
      "dropout (Dropout)            (None, 64)                0         \n",
      "_________________________________________________________________\n",
      "dense_1 (Dense)              (None, 32)                2080      \n",
      "_________________________________________________________________\n",
      "batch_normalization_1 (Batch (None, 32)                128       \n",
      "_________________________________________________________________\n",
      "dropout_1 (Dropout)          (None, 32)                0         \n",
      "_________________________________________________________________\n",
      "dense_2 (Dense)              (None, 16)                528       \n",
      "_________________________________________________________________\n",
      "batch_normalization_2 (Batch (None, 16)                64        \n",
      "_________________________________________________________________\n",
      "dropout_2 (Dropout)          (None, 16)                0         \n",
      "_________________________________________________________________\n",
      "dense_3 (Dense)              (None, 1)                 17        \n",
      "=================================================================\n",
      "Total params: 6,785\n",
      "Trainable params: 6,561\n",
      "Non-trainable params: 224\n",
      "_________________________________________________________________\n"
     ]
    }
   ],
   "source": [
    "init = tf.keras.initializers.HeNormal()\n",
    "regular = tf.keras.regularizers.l2(l2=0.1)\n",
    "\n",
    "# Input layer\n",
    "input_layer = Input(shape=(57,))\n",
    "\n",
    "# Dense hidden layer 1\n",
    "layer1 = Dense(64, activation='relu', kernel_initializer=init, kernel_regularizer=regular)(input_layer)\n",
    "\n",
    "# Batch Normalization layer 1\n",
    "b_norm1 = BatchNormalization()(layer1)\n",
    "\n",
    "# Dropout layer 1\n",
    "drop1 = Dropout(rate=0.5)(b_norm1)\n",
    "\n",
    "# Dense hidden layer 2\n",
    "layer2 = Dense(32, activation='relu', kernel_initializer=init, kernel_regularizer=regular)(drop1)\n",
    "\n",
    "# Batch Normalization layer 2\n",
    "b_norm2 = BatchNormalization()(layer2)\n",
    "\n",
    "# Dropout layer 2\n",
    "drop2 = Dropout(rate=0.5)(b_norm2)\n",
    "\n",
    "# Dense hidden layer 3\n",
    "layer3 = Dense(16, activation='relu', kernel_initializer=init, kernel_regularizer=regular)(drop2)\n",
    "\n",
    "# Batch Normalization layer 3\n",
    "b_norm3 = BatchNormalization()(layer3)\n",
    "\n",
    "# Dropout layer 3\n",
    "drop3 = Dropout(rate=0.5)(b_norm3)\n",
    "\n",
    "# Output layer\n",
    "output_layer = Dense(1, activation='sigmoid', kernel_initializer=tf.keras.initializers.glorot_uniform(), kernel_regularizer=regular)(drop3)\n",
    "\n",
    "# Creating a model\n",
    "model = Model(inputs=input_layer, outputs=output_layer)\n",
    "\n",
    "# summary\n",
    "model.summary()"
   ]
  },
  {
   "cell_type": "code",
   "execution_count": null,
   "metadata": {
    "id": "thwp6syj3Lvk"
   },
   "outputs": [],
   "source": [
    "# Compile model\n",
    "adam = tf.keras.optimizers.Adam()\n",
    "\n",
    "model.compile(loss='binary_crossentropy', optimizer=adam, metrics=['accuracy'])"
   ]
  },
  {
   "cell_type": "code",
   "execution_count": null,
   "metadata": {
    "id": "CKcEJJNSgHIU"
   },
   "outputs": [],
   "source": [
    "filepath = \"drive/My Drive/KKBox/best_model_1.h5\"\n",
    "checkpoint = ModelCheckpoint(filepath=filepath, monitor='val_loss', verbose=1, save_best_only=True, mode='min')\n",
    "\n",
    "es = EarlyStopping(monitor='val_loss', patience=3, mode='min', verbose=1, restore_best_weights=True)\n",
    "\n",
    "cb = [es, checkpoint]"
   ]
  },
  {
   "cell_type": "code",
   "execution_count": null,
   "metadata": {
    "colab": {
     "base_uri": "https://localhost:8080/"
    },
    "id": "Dx9F0wp6E_jy",
    "outputId": "566be66a-6145-4717-fc05-f4c759bde04f"
   },
   "outputs": [
    {
     "name": "stdout",
     "output_type": "stream",
     "text": [
      "Epoch 1/10\n",
      "3032/3035 [============================>.] - ETA: 0s - loss: 1.1517 - accuracy: 0.9246\n",
      "Epoch 00001: val_loss improved from inf to 0.19554, saving model to drive/My Drive/KKBox/best_model_1.h5\n",
      "3035/3035 [==============================] - 17s 6ms/step - loss: 1.1510 - accuracy: 0.9246 - val_loss: 0.1955 - val_accuracy: 0.9451\n",
      "Epoch 2/10\n",
      "3027/3035 [============================>.] - ETA: 0s - loss: 0.1940 - accuracy: 0.9461\n",
      "Epoch 00002: val_loss improved from 0.19554 to 0.17692, saving model to drive/My Drive/KKBox/best_model_1.h5\n",
      "3035/3035 [==============================] - 16s 5ms/step - loss: 0.1940 - accuracy: 0.9461 - val_loss: 0.1769 - val_accuracy: 0.9521\n",
      "Epoch 3/10\n",
      "3026/3035 [============================>.] - ETA: 0s - loss: 0.1868 - accuracy: 0.9458\n",
      "Epoch 00003: val_loss improved from 0.17692 to 0.17252, saving model to drive/My Drive/KKBox/best_model_1.h5\n",
      "3035/3035 [==============================] - 17s 6ms/step - loss: 0.1868 - accuracy: 0.9459 - val_loss: 0.1725 - val_accuracy: 0.9528\n",
      "Epoch 4/10\n",
      "3035/3035 [==============================] - ETA: 0s - loss: 0.1857 - accuracy: 0.9458\n",
      "Epoch 00004: val_loss improved from 0.17252 to 0.16703, saving model to drive/My Drive/KKBox/best_model_1.h5\n",
      "3035/3035 [==============================] - 16s 5ms/step - loss: 0.1857 - accuracy: 0.9458 - val_loss: 0.1670 - val_accuracy: 0.9560\n",
      "Epoch 5/10\n",
      "3033/3035 [============================>.] - ETA: 0s - loss: 0.1844 - accuracy: 0.9458\n",
      "Epoch 00005: val_loss improved from 0.16703 to 0.16315, saving model to drive/My Drive/KKBox/best_model_1.h5\n",
      "3035/3035 [==============================] - 16s 5ms/step - loss: 0.1844 - accuracy: 0.9458 - val_loss: 0.1631 - val_accuracy: 0.9580\n",
      "Epoch 6/10\n",
      "3035/3035 [==============================] - ETA: 0s - loss: 0.1844 - accuracy: 0.9458\n",
      "Epoch 00006: val_loss did not improve from 0.16315\n",
      "3035/3035 [==============================] - 16s 5ms/step - loss: 0.1844 - accuracy: 0.9458 - val_loss: 0.1649 - val_accuracy: 0.9565\n",
      "Epoch 7/10\n",
      "3032/3035 [============================>.] - ETA: 0s - loss: 0.1836 - accuracy: 0.9461\n",
      "Epoch 00007: val_loss improved from 0.16315 to 0.16266, saving model to drive/My Drive/KKBox/best_model_1.h5\n",
      "3035/3035 [==============================] - 16s 5ms/step - loss: 0.1836 - accuracy: 0.9461 - val_loss: 0.1627 - val_accuracy: 0.9574\n",
      "Epoch 8/10\n",
      "3035/3035 [==============================] - ETA: 0s - loss: 0.1831 - accuracy: 0.9463\n",
      "Epoch 00008: val_loss improved from 0.16266 to 0.16210, saving model to drive/My Drive/KKBox/best_model_1.h5\n",
      "3035/3035 [==============================] - 16s 5ms/step - loss: 0.1831 - accuracy: 0.9463 - val_loss: 0.1621 - val_accuracy: 0.9577\n",
      "Epoch 9/10\n",
      "3026/3035 [============================>.] - ETA: 0s - loss: 0.1832 - accuracy: 0.9460\n",
      "Epoch 00009: val_loss did not improve from 0.16210\n",
      "3035/3035 [==============================] - 15s 5ms/step - loss: 0.1832 - accuracy: 0.9460 - val_loss: 0.1914 - val_accuracy: 0.9213\n",
      "Epoch 10/10\n",
      "3024/3035 [============================>.] - ETA: 0s - loss: 0.1829 - accuracy: 0.9463\n",
      "Epoch 00010: val_loss did not improve from 0.16210\n",
      "3035/3035 [==============================] - 15s 5ms/step - loss: 0.1830 - accuracy: 0.9463 - val_loss: 0.1641 - val_accuracy: 0.9573\n"
     ]
    }
   ],
   "source": [
    "# Fit the model\n",
    "history = model.fit(X_train, y_train, epochs=10, batch_size=256, validation_data=(X_cv, y_cv), verbose=1, callbacks=cb)"
   ]
  },
  {
   "cell_type": "code",
   "execution_count": null,
   "metadata": {
    "id": "icsr2BJEpkCI"
   },
   "outputs": [],
   "source": [
    "# loading best model from disk\n",
    "model = load_model('drive/My Drive/KKBox/best_model_1.h5')"
   ]
  },
  {
   "cell_type": "code",
   "execution_count": null,
   "metadata": {
    "colab": {
     "base_uri": "https://localhost:8080/"
    },
    "id": "CGa4kEJzGhcP",
    "outputId": "bca55063-4f01-4285-e3c5-be3cf4a09184"
   },
   "outputs": [
    {
     "data": {
      "text/plain": [
       "array([0.0253654 , 0.02161816, 0.02240785, ..., 0.02195825, 0.02051795,\n",
       "       0.02085175], dtype=float32)"
      ]
     },
     "execution_count": 10,
     "metadata": {
      "tags": []
     },
     "output_type": "execute_result"
    }
   ],
   "source": [
    "# getting probabilities for test data\n",
    "predictions = model.predict(test_data)\n",
    "# converting 2d array to 1d using flatten\n",
    "predictions = predictions.flatten()\n",
    "# getting test probabilities\n",
    "predictions"
   ]
  },
  {
   "cell_type": "code",
   "execution_count": null,
   "metadata": {
    "colab": {
     "base_uri": "https://localhost:8080/",
     "height": 197
    },
    "id": "2Wt4OTigIW0A",
    "outputId": "9fea2b11-304b-4358-e217-cdfeea97a05a"
   },
   "outputs": [
    {
     "data": {
      "text/html": [
       "<div>\n",
       "<style scoped>\n",
       "    .dataframe tbody tr th:only-of-type {\n",
       "        vertical-align: middle;\n",
       "    }\n",
       "\n",
       "    .dataframe tbody tr th {\n",
       "        vertical-align: top;\n",
       "    }\n",
       "\n",
       "    .dataframe thead th {\n",
       "        text-align: right;\n",
       "    }\n",
       "</style>\n",
       "<table border=\"1\" class=\"dataframe\">\n",
       "  <thead>\n",
       "    <tr style=\"text-align: right;\">\n",
       "      <th></th>\n",
       "      <th>msno</th>\n",
       "    </tr>\n",
       "  </thead>\n",
       "  <tbody>\n",
       "    <tr>\n",
       "      <th>0</th>\n",
       "      <td>4n+fXlyJvfQnTeKXTWT507Ll4JVYGrOC8LHCfwBmPE4=</td>\n",
       "    </tr>\n",
       "    <tr>\n",
       "      <th>1</th>\n",
       "      <td>aNmbC1GvFUxQyQUidCVmfbQ0YeCuwkPzEdQ0RwWyeZM=</td>\n",
       "    </tr>\n",
       "    <tr>\n",
       "      <th>2</th>\n",
       "      <td>rFC9eSG/tMuzpre6cwcMLZHEYM89xY02qcz7HL4//jc=</td>\n",
       "    </tr>\n",
       "    <tr>\n",
       "      <th>3</th>\n",
       "      <td>WZ59dLyrQcE7ft06MZ5dj40BnlYQY7PHgg/54+HaCSE=</td>\n",
       "    </tr>\n",
       "    <tr>\n",
       "      <th>4</th>\n",
       "      <td>aky/Iv8hMp1/V/yQHLtaVuEmmAxkB5GuasQZePJ7NU4=</td>\n",
       "    </tr>\n",
       "  </tbody>\n",
       "</table>\n",
       "</div>"
      ],
      "text/plain": [
       "                                           msno\n",
       "0  4n+fXlyJvfQnTeKXTWT507Ll4JVYGrOC8LHCfwBmPE4=\n",
       "1  aNmbC1GvFUxQyQUidCVmfbQ0YeCuwkPzEdQ0RwWyeZM=\n",
       "2  rFC9eSG/tMuzpre6cwcMLZHEYM89xY02qcz7HL4//jc=\n",
       "3  WZ59dLyrQcE7ft06MZ5dj40BnlYQY7PHgg/54+HaCSE=\n",
       "4  aky/Iv8hMp1/V/yQHLtaVuEmmAxkB5GuasQZePJ7NU4="
      ]
     },
     "execution_count": 11,
     "metadata": {
      "tags": []
     },
     "output_type": "execute_result"
    }
   ],
   "source": [
    "# loading sample submission file\n",
    "submit = pd.read_csv('drive/My Drive/KKBox/sample_submission_v2.csv')\n",
    "# dropping default class labels\n",
    "submit = submit.drop('is_churn', axis=1, inplace=False)\n",
    "# getting head(top 5 rows)\n",
    "submit.head()"
   ]
  },
  {
   "cell_type": "code",
   "execution_count": null,
   "metadata": {
    "colab": {
     "base_uri": "https://localhost:8080/",
     "height": 197
    },
    "id": "56gSz1olIwYV",
    "outputId": "27829d1a-e175-48d8-b187-0bb8b17c0740"
   },
   "outputs": [
    {
     "data": {
      "text/html": [
       "<div>\n",
       "<style scoped>\n",
       "    .dataframe tbody tr th:only-of-type {\n",
       "        vertical-align: middle;\n",
       "    }\n",
       "\n",
       "    .dataframe tbody tr th {\n",
       "        vertical-align: top;\n",
       "    }\n",
       "\n",
       "    .dataframe thead th {\n",
       "        text-align: right;\n",
       "    }\n",
       "</style>\n",
       "<table border=\"1\" class=\"dataframe\">\n",
       "  <thead>\n",
       "    <tr style=\"text-align: right;\">\n",
       "      <th></th>\n",
       "      <th>msno</th>\n",
       "      <th>is_churn</th>\n",
       "    </tr>\n",
       "  </thead>\n",
       "  <tbody>\n",
       "    <tr>\n",
       "      <th>0</th>\n",
       "      <td>4n+fXlyJvfQnTeKXTWT507Ll4JVYGrOC8LHCfwBmPE4=</td>\n",
       "      <td>0.015219</td>\n",
       "    </tr>\n",
       "    <tr>\n",
       "      <th>1</th>\n",
       "      <td>aNmbC1GvFUxQyQUidCVmfbQ0YeCuwkPzEdQ0RwWyeZM=</td>\n",
       "      <td>0.012971</td>\n",
       "    </tr>\n",
       "    <tr>\n",
       "      <th>2</th>\n",
       "      <td>rFC9eSG/tMuzpre6cwcMLZHEYM89xY02qcz7HL4//jc=</td>\n",
       "      <td>0.013445</td>\n",
       "    </tr>\n",
       "    <tr>\n",
       "      <th>3</th>\n",
       "      <td>WZ59dLyrQcE7ft06MZ5dj40BnlYQY7PHgg/54+HaCSE=</td>\n",
       "      <td>0.014194</td>\n",
       "    </tr>\n",
       "    <tr>\n",
       "      <th>4</th>\n",
       "      <td>aky/Iv8hMp1/V/yQHLtaVuEmmAxkB5GuasQZePJ7NU4=</td>\n",
       "      <td>0.015875</td>\n",
       "    </tr>\n",
       "  </tbody>\n",
       "</table>\n",
       "</div>"
      ],
      "text/plain": [
       "                                           msno  is_churn\n",
       "0  4n+fXlyJvfQnTeKXTWT507Ll4JVYGrOC8LHCfwBmPE4=  0.015219\n",
       "1  aNmbC1GvFUxQyQUidCVmfbQ0YeCuwkPzEdQ0RwWyeZM=  0.012971\n",
       "2  rFC9eSG/tMuzpre6cwcMLZHEYM89xY02qcz7HL4//jc=  0.013445\n",
       "3  WZ59dLyrQcE7ft06MZ5dj40BnlYQY7PHgg/54+HaCSE=  0.014194\n",
       "4  aky/Iv8hMp1/V/yQHLtaVuEmmAxkB5GuasQZePJ7NU4=  0.015875"
      ]
     },
     "execution_count": 12,
     "metadata": {
      "tags": []
     },
     "output_type": "execute_result"
    }
   ],
   "source": [
    "# multiplying 0.6 with class labels, and assigning them to new feature 'is_churn'\n",
    "submit['is_churn'] = predictions * 0.6\n",
    "# getting head(top 5 rows)\n",
    "submit.head()"
   ]
  },
  {
   "cell_type": "code",
   "execution_count": null,
   "metadata": {
    "id": "yg3WqzB2I36L"
   },
   "outputs": [],
   "source": [
    "# saving csv file to the disk\n",
    "submit.to_csv('drive/My Drive/KKBox/submission_ffnn06_1.csv', index=False)"
   ]
  },
  {
   "cell_type": "markdown",
   "metadata": {
    "id": "s6WhXQDIp4kO"
   },
   "source": [
    "**By using this model I got 0.12136 on public leaderboard as test log-loss and 0.12043 on private leaderboard as test log-loss.**"
   ]
  },
  {
   "attachments": {
    "image.png": {
     "image/png": "[encoded data removed]"
    }
   },
   "cell_type": "markdown",
   "metadata": {},
   "source": [
    "![image.png](attachment:image.png)"
   ]
  },
  {
   "cell_type": "markdown",
   "metadata": {
    "id": "aHbuq7gjpyax"
   },
   "source": [
    "## Third Neural Network Model"
   ]
  },
  {
   "cell_type": "code",
   "execution_count": null,
   "metadata": {
    "colab": {
     "base_uri": "https://localhost:8080/"
    },
    "id": "fpOe3mUPl9uQ",
    "outputId": "216e7454-5a11-435e-9969-c80dfab0e164"
   },
   "outputs": [
    {
     "name": "stdout",
     "output_type": "stream",
     "text": [
      "Model: \"functional_1\"\n",
      "_________________________________________________________________\n",
      "Layer (type)                 Output Shape              Param #   \n",
      "=================================================================\n",
      "input_1 (InputLayer)         [(None, 57)]              0         \n",
      "_________________________________________________________________\n",
      "dense (Dense)                (None, 64)                3712      \n",
      "_________________________________________________________________\n",
      "batch_normalization (BatchNo (None, 64)                256       \n",
      "_________________________________________________________________\n",
      "dropout (Dropout)            (None, 64)                0         \n",
      "_________________________________________________________________\n",
      "dense_1 (Dense)              (None, 32)                2080      \n",
      "_________________________________________________________________\n",
      "batch_normalization_1 (Batch (None, 32)                128       \n",
      "_________________________________________________________________\n",
      "dropout_1 (Dropout)          (None, 32)                0         \n",
      "_________________________________________________________________\n",
      "dense_2 (Dense)              (None, 16)                528       \n",
      "_________________________________________________________________\n",
      "batch_normalization_2 (Batch (None, 16)                64        \n",
      "_________________________________________________________________\n",
      "dropout_2 (Dropout)          (None, 16)                0         \n",
      "_________________________________________________________________\n",
      "dense_3 (Dense)              (None, 1)                 17        \n",
      "=================================================================\n",
      "Total params: 6,785\n",
      "Trainable params: 6,561\n",
      "Non-trainable params: 224\n",
      "_________________________________________________________________\n"
     ]
    }
   ],
   "source": [
    "init = tf.keras.initializers.HeNormal()\n",
    "regular = tf.keras.regularizers.l2(l2=0.1)\n",
    "\n",
    "# Input layer\n",
    "input_layer = Input(shape=(57,))\n",
    "\n",
    "# Dense hidden layer 1\n",
    "layer1 = Dense(64, activation='relu', kernel_initializer=init, kernel_regularizer=regular)(input_layer)\n",
    "\n",
    "# Batch Normalization layer 1\n",
    "b_norm1 = BatchNormalization()(layer1)\n",
    "\n",
    "# Dropout layer 1\n",
    "drop1 = Dropout(rate=0.5)(b_norm1)\n",
    "\n",
    "# Dense hidden layer 2\n",
    "layer2 = Dense(32, activation='relu', kernel_initializer=init, kernel_regularizer=regular)(drop1)\n",
    "\n",
    "# Batch Normalization layer 2\n",
    "b_norm2 = BatchNormalization()(layer2)\n",
    "\n",
    "# Dropout layer 2\n",
    "drop2 = Dropout(rate=0.5)(b_norm2)\n",
    "\n",
    "# Dense hidden layer 3\n",
    "layer3 = Dense(16, activation='relu', kernel_initializer=init, kernel_regularizer=regular)(drop2)\n",
    "\n",
    "# Batch Normalization layer 3\n",
    "b_norm3 = BatchNormalization()(layer3)\n",
    "\n",
    "# Dropout layer 3\n",
    "drop3 = Dropout(rate=0.5)(b_norm3)\n",
    "\n",
    "# Output layer\n",
    "output_layer = Dense(1, activation='sigmoid', kernel_initializer=tf.keras.initializers.glorot_normal(), kernel_regularizer=regular)(drop3)\n",
    "\n",
    "# Creating a model\n",
    "model = Model(inputs=input_layer, outputs=output_layer)\n",
    "\n",
    "# summary\n",
    "model.summary()"
   ]
  },
  {
   "cell_type": "code",
   "execution_count": null,
   "metadata": {
    "id": "3sPhHEdol9qt"
   },
   "outputs": [],
   "source": [
    "# Compile model\n",
    "adam = tf.keras.optimizers.Adam()\n",
    "\n",
    "model.compile(loss='binary_crossentropy', optimizer=adam, metrics=['accuracy'])"
   ]
  },
  {
   "cell_type": "code",
   "execution_count": null,
   "metadata": {
    "id": "DcMQPVWNl9n7"
   },
   "outputs": [],
   "source": [
    "filepath = \"drive/My Drive/KKBox/best_model_2.h5\"\n",
    "checkpoint = ModelCheckpoint(filepath=filepath, monitor='val_loss', verbose=1, save_best_only=True, mode='min')\n",
    "\n",
    "es = EarlyStopping(monitor='val_loss', patience=3, mode='min', verbose=1, restore_best_weights=True)\n",
    "\n",
    "cb = [es, checkpoint]"
   ]
  },
  {
   "cell_type": "code",
   "execution_count": null,
   "metadata": {
    "colab": {
     "base_uri": "https://localhost:8080/"
    },
    "id": "O7TbBxm6l9kX",
    "outputId": "adec66e4-9564-4f35-e5ff-c8cf9d4cd0d6"
   },
   "outputs": [
    {
     "name": "stdout",
     "output_type": "stream",
     "text": [
      "Epoch 1/10\n",
      "3029/3035 [============================>.] - ETA: 0s - loss: 0.7344 - accuracy: 0.9347\n",
      "Epoch 00001: val_loss improved from inf to 0.27801, saving model to drive/My Drive/KKBox/best_model_2.h5\n",
      "3035/3035 [==============================] - 16s 5ms/step - loss: 0.7334 - accuracy: 0.9347 - val_loss: 0.2780 - val_accuracy: 0.9020\n",
      "Epoch 2/10\n",
      "3027/3035 [============================>.] - ETA: 0s - loss: 0.1925 - accuracy: 0.9460\n",
      "Epoch 00002: val_loss improved from 0.27801 to 0.21138, saving model to drive/My Drive/KKBox/best_model_2.h5\n",
      "3035/3035 [==============================] - 16s 5ms/step - loss: 0.1925 - accuracy: 0.9460 - val_loss: 0.2114 - val_accuracy: 0.9348\n",
      "Epoch 3/10\n",
      "3030/3035 [============================>.] - ETA: 0s - loss: 0.1872 - accuracy: 0.9458\n",
      "Epoch 00003: val_loss improved from 0.21138 to 0.16718, saving model to drive/My Drive/KKBox/best_model_2.h5\n",
      "3035/3035 [==============================] - 16s 5ms/step - loss: 0.1873 - accuracy: 0.9458 - val_loss: 0.1672 - val_accuracy: 0.9573\n",
      "Epoch 4/10\n",
      "3028/3035 [============================>.] - ETA: 0s - loss: 0.1854 - accuracy: 0.9458\n",
      "Epoch 00004: val_loss did not improve from 0.16718\n",
      "3035/3035 [==============================] - 15s 5ms/step - loss: 0.1854 - accuracy: 0.9458 - val_loss: 0.1822 - val_accuracy: 0.9473\n",
      "Epoch 5/10\n",
      "3029/3035 [============================>.] - ETA: 0s - loss: 0.1849 - accuracy: 0.9456\n",
      "Epoch 00005: val_loss did not improve from 0.16718\n",
      "3035/3035 [==============================] - 16s 5ms/step - loss: 0.1849 - accuracy: 0.9456 - val_loss: 0.1847 - val_accuracy: 0.9502\n",
      "Epoch 6/10\n",
      "3029/3035 [============================>.] - ETA: 0s - loss: 0.1837 - accuracy: 0.9462\n",
      "Epoch 00006: val_loss improved from 0.16718 to 0.16148, saving model to drive/My Drive/KKBox/best_model_2.h5\n",
      "3035/3035 [==============================] - 17s 6ms/step - loss: 0.1836 - accuracy: 0.9462 - val_loss: 0.1615 - val_accuracy: 0.9584\n",
      "Epoch 7/10\n",
      "3027/3035 [============================>.] - ETA: 0s - loss: 0.1832 - accuracy: 0.9463\n",
      "Epoch 00007: val_loss did not improve from 0.16148\n",
      "3035/3035 [==============================] - 16s 5ms/step - loss: 0.1831 - accuracy: 0.9464 - val_loss: 0.1875 - val_accuracy: 0.9500\n",
      "Epoch 8/10\n",
      "3035/3035 [==============================] - ETA: 0s - loss: 0.1831 - accuracy: 0.9464\n",
      "Epoch 00008: val_loss did not improve from 0.16148\n",
      "3035/3035 [==============================] - 15s 5ms/step - loss: 0.1831 - accuracy: 0.9464 - val_loss: 0.1791 - val_accuracy: 0.9488\n",
      "Epoch 9/10\n",
      "3026/3035 [============================>.] - ETA: 0s - loss: 0.1833 - accuracy: 0.9462Restoring model weights from the end of the best epoch.\n",
      "\n",
      "Epoch 00009: val_loss did not improve from 0.16148\n",
      "3035/3035 [==============================] - 16s 5ms/step - loss: 0.1833 - accuracy: 0.9462 - val_loss: 0.1744 - val_accuracy: 0.9518\n",
      "Epoch 00009: early stopping\n"
     ]
    }
   ],
   "source": [
    "# Fit the model\n",
    "history = model.fit(X_train, y_train, epochs=10, batch_size=256, validation_data=(X_cv, y_cv), verbose=1, callbacks=cb)"
   ]
  },
  {
   "cell_type": "code",
   "execution_count": null,
   "metadata": {
    "colab": {
     "base_uri": "https://localhost:8080/"
    },
    "id": "Lj1uS0jql9iP",
    "outputId": "140219bc-2cbf-4fc5-b1db-8ab5d8257273"
   },
   "outputs": [
    {
     "data": {
      "text/plain": [
       "array([0.02882533, 0.01901679, 0.02031952, ..., 0.02142653, 0.01834583,\n",
       "       0.01852141], dtype=float32)"
      ]
     },
     "execution_count": 11,
     "metadata": {
      "tags": []
     },
     "output_type": "execute_result"
    }
   ],
   "source": [
    "# loading best model from disk\n",
    "model = load_model('drive/My Drive/KKBox/best_model_2.h5')\n",
    "\n",
    "# getting predictions for test data\n",
    "predictions = model.predict(test_data)\n",
    "# converting 2d array to 1d using flatten\n",
    "predictions = predictions.flatten()\n",
    "# getting probabilities\n",
    "predictions"
   ]
  },
  {
   "cell_type": "code",
   "execution_count": null,
   "metadata": {
    "colab": {
     "base_uri": "https://localhost:8080/",
     "height": 197
    },
    "id": "aiyVVYdfl9fu",
    "outputId": "a72f665a-aae7-4a28-bfd0-261328d706bb"
   },
   "outputs": [
    {
     "data": {
      "text/html": [
       "<div>\n",
       "<style scoped>\n",
       "    .dataframe tbody tr th:only-of-type {\n",
       "        vertical-align: middle;\n",
       "    }\n",
       "\n",
       "    .dataframe tbody tr th {\n",
       "        vertical-align: top;\n",
       "    }\n",
       "\n",
       "    .dataframe thead th {\n",
       "        text-align: right;\n",
       "    }\n",
       "</style>\n",
       "<table border=\"1\" class=\"dataframe\">\n",
       "  <thead>\n",
       "    <tr style=\"text-align: right;\">\n",
       "      <th></th>\n",
       "      <th>msno</th>\n",
       "    </tr>\n",
       "  </thead>\n",
       "  <tbody>\n",
       "    <tr>\n",
       "      <th>0</th>\n",
       "      <td>4n+fXlyJvfQnTeKXTWT507Ll4JVYGrOC8LHCfwBmPE4=</td>\n",
       "    </tr>\n",
       "    <tr>\n",
       "      <th>1</th>\n",
       "      <td>aNmbC1GvFUxQyQUidCVmfbQ0YeCuwkPzEdQ0RwWyeZM=</td>\n",
       "    </tr>\n",
       "    <tr>\n",
       "      <th>2</th>\n",
       "      <td>rFC9eSG/tMuzpre6cwcMLZHEYM89xY02qcz7HL4//jc=</td>\n",
       "    </tr>\n",
       "    <tr>\n",
       "      <th>3</th>\n",
       "      <td>WZ59dLyrQcE7ft06MZ5dj40BnlYQY7PHgg/54+HaCSE=</td>\n",
       "    </tr>\n",
       "    <tr>\n",
       "      <th>4</th>\n",
       "      <td>aky/Iv8hMp1/V/yQHLtaVuEmmAxkB5GuasQZePJ7NU4=</td>\n",
       "    </tr>\n",
       "  </tbody>\n",
       "</table>\n",
       "</div>"
      ],
      "text/plain": [
       "                                           msno\n",
       "0  4n+fXlyJvfQnTeKXTWT507Ll4JVYGrOC8LHCfwBmPE4=\n",
       "1  aNmbC1GvFUxQyQUidCVmfbQ0YeCuwkPzEdQ0RwWyeZM=\n",
       "2  rFC9eSG/tMuzpre6cwcMLZHEYM89xY02qcz7HL4//jc=\n",
       "3  WZ59dLyrQcE7ft06MZ5dj40BnlYQY7PHgg/54+HaCSE=\n",
       "4  aky/Iv8hMp1/V/yQHLtaVuEmmAxkB5GuasQZePJ7NU4="
      ]
     },
     "execution_count": 12,
     "metadata": {
      "tags": []
     },
     "output_type": "execute_result"
    }
   ],
   "source": [
    "# loading sample submission file\n",
    "submit = pd.read_csv('drive/My Drive/KKBox/sample_submission_v2.csv')\n",
    "# dropping default class labels\n",
    "submit = submit.drop('is_churn', axis=1, inplace=False)\n",
    "# getting head(top 5 rows)\n",
    "submit.head()"
   ]
  },
  {
   "cell_type": "code",
   "execution_count": null,
   "metadata": {
    "colab": {
     "base_uri": "https://localhost:8080/",
     "height": 197
    },
    "id": "Z3ktQTugl9cL",
    "outputId": "11d94276-c79f-4cf6-b26e-4edd6f4a31cb"
   },
   "outputs": [
    {
     "data": {
      "text/html": [
       "<div>\n",
       "<style scoped>\n",
       "    .dataframe tbody tr th:only-of-type {\n",
       "        vertical-align: middle;\n",
       "    }\n",
       "\n",
       "    .dataframe tbody tr th {\n",
       "        vertical-align: top;\n",
       "    }\n",
       "\n",
       "    .dataframe thead th {\n",
       "        text-align: right;\n",
       "    }\n",
       "</style>\n",
       "<table border=\"1\" class=\"dataframe\">\n",
       "  <thead>\n",
       "    <tr style=\"text-align: right;\">\n",
       "      <th></th>\n",
       "      <th>msno</th>\n",
       "      <th>is_churn</th>\n",
       "    </tr>\n",
       "  </thead>\n",
       "  <tbody>\n",
       "    <tr>\n",
       "      <th>0</th>\n",
       "      <td>4n+fXlyJvfQnTeKXTWT507Ll4JVYGrOC8LHCfwBmPE4=</td>\n",
       "      <td>0.017295</td>\n",
       "    </tr>\n",
       "    <tr>\n",
       "      <th>1</th>\n",
       "      <td>aNmbC1GvFUxQyQUidCVmfbQ0YeCuwkPzEdQ0RwWyeZM=</td>\n",
       "      <td>0.011410</td>\n",
       "    </tr>\n",
       "    <tr>\n",
       "      <th>2</th>\n",
       "      <td>rFC9eSG/tMuzpre6cwcMLZHEYM89xY02qcz7HL4//jc=</td>\n",
       "      <td>0.012192</td>\n",
       "    </tr>\n",
       "    <tr>\n",
       "      <th>3</th>\n",
       "      <td>WZ59dLyrQcE7ft06MZ5dj40BnlYQY7PHgg/54+HaCSE=</td>\n",
       "      <td>0.015435</td>\n",
       "    </tr>\n",
       "    <tr>\n",
       "      <th>4</th>\n",
       "      <td>aky/Iv8hMp1/V/yQHLtaVuEmmAxkB5GuasQZePJ7NU4=</td>\n",
       "      <td>0.019524</td>\n",
       "    </tr>\n",
       "  </tbody>\n",
       "</table>\n",
       "</div>"
      ],
      "text/plain": [
       "                                           msno  is_churn\n",
       "0  4n+fXlyJvfQnTeKXTWT507Ll4JVYGrOC8LHCfwBmPE4=  0.017295\n",
       "1  aNmbC1GvFUxQyQUidCVmfbQ0YeCuwkPzEdQ0RwWyeZM=  0.011410\n",
       "2  rFC9eSG/tMuzpre6cwcMLZHEYM89xY02qcz7HL4//jc=  0.012192\n",
       "3  WZ59dLyrQcE7ft06MZ5dj40BnlYQY7PHgg/54+HaCSE=  0.015435\n",
       "4  aky/Iv8hMp1/V/yQHLtaVuEmmAxkB5GuasQZePJ7NU4=  0.019524"
      ]
     },
     "execution_count": 13,
     "metadata": {
      "tags": []
     },
     "output_type": "execute_result"
    }
   ],
   "source": [
    "# multiplying 0.6 with class labels, and assigning them to new feature 'is_churn'\n",
    "submit['is_churn'] = predictions * 0.6\n",
    "# getting head(top 5 rows)\n",
    "submit.head()"
   ]
  },
  {
   "cell_type": "code",
   "execution_count": null,
   "metadata": {
    "id": "eitlp8uxoIRl"
   },
   "outputs": [],
   "source": [
    "# saving csv file to the disk\n",
    "submit.to_csv('drive/My Drive/KKBox/submission_ffnn06_2.csv', index=False)"
   ]
  },
  {
   "cell_type": "markdown",
   "metadata": {
    "id": "vp5J8eN8o_0v"
   },
   "source": [
    "**By using this model I got 0.11980 as public leaderboard test log-loss and 0.11866 as private leaderboard test log-loss.**"
   ]
  },
  {
   "attachments": {
    "image.png": {
     "image/png": "[encoded data removed]"
    }
   },
   "cell_type": "markdown",
   "metadata": {},
   "source": [
    "![image.png](attachment:image.png)"
   ]
  },
  {
   "attachments": {
    "image.png": {
     "image/png": "[encoded data removed]"
    }
   },
   "cell_type": "markdown",
   "metadata": {},
   "source": [
    "![image.png](attachment:image.png)"
   ]
  },
  {
   "cell_type": "markdown",
   "metadata": {
    "id": "UajBhrSvnHBW"
   },
   "source": [
    "## Simple Average Model"
   ]
  },
  {
   "cell_type": "code",
   "execution_count": null,
   "metadata": {
    "id": "2lifwsrvnMCm"
   },
   "outputs": [],
   "source": [
    "# Loading first NN model\n",
    "model1 = load_model('drive/My Drive/KKBox/best_model.h5')\n",
    "\n",
    "# Loading second NN model\n",
    "model2 = load_model('drive/My Drive/KKBox/best_model_1.h5')\n",
    "\n",
    "# Loading third NN model\n",
    "model3 = load_model('drive/My Drive/KKBox/best_model_2.h5')"
   ]
  },
  {
   "cell_type": "code",
   "execution_count": null,
   "metadata": {
    "id": "nm6qSNuqnM0J"
   },
   "outputs": [],
   "source": [
    "# predict probabilities for the test data using model 1\n",
    "prediction1 = model1.predict(test_data)\n",
    "prediction1 = prediction1.flatten()\n",
    "\n",
    "# predict probabilities for the test data using model 2\n",
    "prediction2 = model2.predict(test_data)\n",
    "prediction2 = prediction2.flatten()\n",
    "\n",
    "# predict probabilities for the test data using model 3\n",
    "prediction3 = model3.predict(test_data)\n",
    "prediction3 = prediction3.flatten()"
   ]
  },
  {
   "cell_type": "code",
   "execution_count": null,
   "metadata": {
    "colab": {
     "base_uri": "https://localhost:8080/"
    },
    "id": "jrpMJHn6nMw-",
    "outputId": "8538b35d-7023-488c-90ff-9b3b39ed3d40"
   },
   "outputs": [
    {
     "data": {
      "text/plain": [
       "array([0.02656035, 0.01888013, 0.01996489, ..., 0.02146891, 0.0186058 ,\n",
       "       0.01815041], dtype=float32)"
      ]
     },
     "execution_count": 6,
     "metadata": {
      "tags": []
     },
     "output_type": "execute_result"
    }
   ],
   "source": [
    "# combined average prediction\n",
    "com_pred = (prediction1 + prediction2 + prediction3) / 3\n",
    "# displaying combined probabilities\n",
    "com_pred"
   ]
  },
  {
   "cell_type": "code",
   "execution_count": null,
   "metadata": {
    "colab": {
     "base_uri": "https://localhost:8080/",
     "height": 197
    },
    "id": "W0X-chdjnMuo",
    "outputId": "a9e40873-9e2d-44fa-8902-3d4dfdce6847"
   },
   "outputs": [
    {
     "data": {
      "text/html": [
       "<div>\n",
       "<style scoped>\n",
       "    .dataframe tbody tr th:only-of-type {\n",
       "        vertical-align: middle;\n",
       "    }\n",
       "\n",
       "    .dataframe tbody tr th {\n",
       "        vertical-align: top;\n",
       "    }\n",
       "\n",
       "    .dataframe thead th {\n",
       "        text-align: right;\n",
       "    }\n",
       "</style>\n",
       "<table border=\"1\" class=\"dataframe\">\n",
       "  <thead>\n",
       "    <tr style=\"text-align: right;\">\n",
       "      <th></th>\n",
       "      <th>msno</th>\n",
       "    </tr>\n",
       "  </thead>\n",
       "  <tbody>\n",
       "    <tr>\n",
       "      <th>0</th>\n",
       "      <td>4n+fXlyJvfQnTeKXTWT507Ll4JVYGrOC8LHCfwBmPE4=</td>\n",
       "    </tr>\n",
       "    <tr>\n",
       "      <th>1</th>\n",
       "      <td>aNmbC1GvFUxQyQUidCVmfbQ0YeCuwkPzEdQ0RwWyeZM=</td>\n",
       "    </tr>\n",
       "    <tr>\n",
       "      <th>2</th>\n",
       "      <td>rFC9eSG/tMuzpre6cwcMLZHEYM89xY02qcz7HL4//jc=</td>\n",
       "    </tr>\n",
       "    <tr>\n",
       "      <th>3</th>\n",
       "      <td>WZ59dLyrQcE7ft06MZ5dj40BnlYQY7PHgg/54+HaCSE=</td>\n",
       "    </tr>\n",
       "    <tr>\n",
       "      <th>4</th>\n",
       "      <td>aky/Iv8hMp1/V/yQHLtaVuEmmAxkB5GuasQZePJ7NU4=</td>\n",
       "    </tr>\n",
       "  </tbody>\n",
       "</table>\n",
       "</div>"
      ],
      "text/plain": [
       "                                           msno\n",
       "0  4n+fXlyJvfQnTeKXTWT507Ll4JVYGrOC8LHCfwBmPE4=\n",
       "1  aNmbC1GvFUxQyQUidCVmfbQ0YeCuwkPzEdQ0RwWyeZM=\n",
       "2  rFC9eSG/tMuzpre6cwcMLZHEYM89xY02qcz7HL4//jc=\n",
       "3  WZ59dLyrQcE7ft06MZ5dj40BnlYQY7PHgg/54+HaCSE=\n",
       "4  aky/Iv8hMp1/V/yQHLtaVuEmmAxkB5GuasQZePJ7NU4="
      ]
     },
     "execution_count": 7,
     "metadata": {
      "tags": []
     },
     "output_type": "execute_result"
    }
   ],
   "source": [
    "# loading sample submission file\n",
    "submit = pd.read_csv('drive/My Drive/KKBox/sample_submission_v2.csv')\n",
    "# dropping default class labels\n",
    "submit = submit.drop('is_churn', axis=1, inplace=False)\n",
    "# getting head(top 5 rows)\n",
    "submit.head()"
   ]
  },
  {
   "cell_type": "code",
   "execution_count": null,
   "metadata": {
    "colab": {
     "base_uri": "https://localhost:8080/",
     "height": 197
    },
    "id": "EB08ceXsnMsE",
    "outputId": "a075ee13-e8c1-4ca5-fcc4-93ad95c1596f"
   },
   "outputs": [
    {
     "data": {
      "text/html": [
       "<div>\n",
       "<style scoped>\n",
       "    .dataframe tbody tr th:only-of-type {\n",
       "        vertical-align: middle;\n",
       "    }\n",
       "\n",
       "    .dataframe tbody tr th {\n",
       "        vertical-align: top;\n",
       "    }\n",
       "\n",
       "    .dataframe thead th {\n",
       "        text-align: right;\n",
       "    }\n",
       "</style>\n",
       "<table border=\"1\" class=\"dataframe\">\n",
       "  <thead>\n",
       "    <tr style=\"text-align: right;\">\n",
       "      <th></th>\n",
       "      <th>msno</th>\n",
       "      <th>is_churn</th>\n",
       "    </tr>\n",
       "  </thead>\n",
       "  <tbody>\n",
       "    <tr>\n",
       "      <th>0</th>\n",
       "      <td>4n+fXlyJvfQnTeKXTWT507Ll4JVYGrOC8LHCfwBmPE4=</td>\n",
       "      <td>0.015936</td>\n",
       "    </tr>\n",
       "    <tr>\n",
       "      <th>1</th>\n",
       "      <td>aNmbC1GvFUxQyQUidCVmfbQ0YeCuwkPzEdQ0RwWyeZM=</td>\n",
       "      <td>0.011328</td>\n",
       "    </tr>\n",
       "    <tr>\n",
       "      <th>2</th>\n",
       "      <td>rFC9eSG/tMuzpre6cwcMLZHEYM89xY02qcz7HL4//jc=</td>\n",
       "      <td>0.011979</td>\n",
       "    </tr>\n",
       "    <tr>\n",
       "      <th>3</th>\n",
       "      <td>WZ59dLyrQcE7ft06MZ5dj40BnlYQY7PHgg/54+HaCSE=</td>\n",
       "      <td>0.014339</td>\n",
       "    </tr>\n",
       "    <tr>\n",
       "      <th>4</th>\n",
       "      <td>aky/Iv8hMp1/V/yQHLtaVuEmmAxkB5GuasQZePJ7NU4=</td>\n",
       "      <td>0.018739</td>\n",
       "    </tr>\n",
       "  </tbody>\n",
       "</table>\n",
       "</div>"
      ],
      "text/plain": [
       "                                           msno  is_churn\n",
       "0  4n+fXlyJvfQnTeKXTWT507Ll4JVYGrOC8LHCfwBmPE4=  0.015936\n",
       "1  aNmbC1GvFUxQyQUidCVmfbQ0YeCuwkPzEdQ0RwWyeZM=  0.011328\n",
       "2  rFC9eSG/tMuzpre6cwcMLZHEYM89xY02qcz7HL4//jc=  0.011979\n",
       "3  WZ59dLyrQcE7ft06MZ5dj40BnlYQY7PHgg/54+HaCSE=  0.014339\n",
       "4  aky/Iv8hMp1/V/yQHLtaVuEmmAxkB5GuasQZePJ7NU4=  0.018739"
      ]
     },
     "execution_count": 8,
     "metadata": {
      "tags": []
     },
     "output_type": "execute_result"
    }
   ],
   "source": [
    "# multiplying 0.6 with class labels, and assigning them to new feature 'is_churn'\n",
    "submit['is_churn'] = com_pred * 0.6\n",
    "# getting head(top 5 rows)\n",
    "submit.head()"
   ]
  },
  {
   "cell_type": "code",
   "execution_count": null,
   "metadata": {
    "id": "fl0dTFw0nMoq"
   },
   "outputs": [],
   "source": [
    "# saving csv file to the disk\n",
    "submit.to_csv('drive/My Drive/KKBox/submission_nn_combine.csv', index=False)"
   ]
  },
  {
   "cell_type": "markdown",
   "metadata": {
    "id": "3VC_-5nxr_zw"
   },
   "source": [
    "**By using this model I got 0.11994 as public leaderboard test log-loss, and 0.11898 as private leaderboard test log-loss.**"
   ]
  },
  {
   "attachments": {
    "image.png": {
     "image/png": "[encoded data removed]"
    }
   },
   "cell_type": "markdown",
   "metadata": {},
   "source": [
    "![image.png](attachment:image.png)"
   ]
  },
  {
   "cell_type": "code",
   "execution_count": 1,
   "metadata": {
    "colab": {
     "base_uri": "https://localhost:8080/"
    },
    "id": "ox9RQBadvW0V",
    "outputId": "dac1789b-b5c7-41b0-97e0-ad6ccdda8b10"
   },
   "outputs": [
    {
     "name": "stdout",
     "output_type": "stream",
     "text": [
      "+------------------------------------+--------------------------+---------------------------+\n",
      "|             Model name             | Public leaderboard score | Private leaderboard score |\n",
      "+------------------------------------+--------------------------+---------------------------+\n",
      "|      Random Forest Classifier      |         0.15946          |           0.1591          |\n",
      "|      Decision Tree Classifier      |         0.15749          |          0.15624          |\n",
      "|        Logistic Regression         |         0.15197          |          0.15148          |\n",
      "|              CatBoost              |         0.13111          |          0.13013          |\n",
      "|              XGBoost               |         0.12702          |          0.12603          |\n",
      "|              LightGBM              |         0.12697          |           0.126           |\n",
      "| Averaged Model(xgboost + lightGBM) |          0.1266          |          0.12562          |\n",
      "|      Neural Network Model - 1      |         0.12291          |          0.12209          |\n",
      "|      Neural Network Model - 2      |         0.12136          |          0.12043          |\n",
      "|   Averaged Model(NN1 + NN2 + NN3   |         0.11994          |          0.11898          |\n",
      "|      Neural Network Model - 3      |          0.1198          |          0.11866          |\n",
      "+------------------------------------+--------------------------+---------------------------+\n"
     ]
    }
   ],
   "source": [
    "table = PrettyTable()\n",
    "\n",
    "table.field_names = ['Model name', 'Public leaderboard score', 'Private leaderboard score']\n",
    "\n",
    "table.add_row(['Random Forest Classifier', 0.15946, 0.15910])\n",
    "table.add_row(['Decision Tree Classifier', 0.15749, 0.15624])\n",
    "table.add_row(['Logistic Regression', 0.15197, 0.15148])\n",
    "table.add_row(['CatBoost', 0.13111, 0.13013])\n",
    "table.add_row(['XGBoost', 0.12702, 0.12603])\n",
    "table.add_row(['LightGBM', 0.12697, 0.12600])\n",
    "table.add_row(['Averaged Model(xgboost + lightGBM)', 0.12660, 0.12562])\n",
    "table.add_row(['Neural Network Model - 1', 0.12291, 0.12209])\n",
    "table.add_row(['Neural Network Model - 2', 0.12136, 0.12043])\n",
    "table.add_row(['Averaged Model(NN1 + NN2 + NN3', 0.11994, 0.11898])\n",
    "table.add_row(['Neural Network Model - 3', 0.11980, 0.11866])\n",
    "\n",
    "print(table)"
   ]
  }
 ],
 "metadata": {
  "accelerator": "GPU",
  "colab": {
   "collapsed_sections": [],
   "name": "Copy of KKBOx Modeling.ipynb",
   "provenance": [],
   "toc_visible": true
  },
  "kernelspec": {
   "display_name": "Python 3",
   "language": "python",
   "name": "python3"
  },
  "language_info": {
   "codemirror_mode": {
    "name": "ipython",
    "version": 3
   },
   "file_extension": ".py",
   "mimetype": "text/x-python",
   "name": "python",
   "nbconvert_exporter": "python",
   "pygments_lexer": "ipython3",
   "version": "3.7.4"
  }
 },
 "nbformat": 4,
 "nbformat_minor": 1
}
