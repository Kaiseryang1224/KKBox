{
 "cells": [
  {
   "cell_type": "markdown",
   "metadata": {
    "id": "Dww8lsfCPgyT"
   },
   "source": [
    "# Modeling"
   ]
  },
  {
   "cell_type": "code",
   "execution_count": null,
   "metadata": {
    "id": "v2mgWpPBPgyW"
   },
   "outputs": [],
   "source": [
    "# loading library\n",
    "import warnings\n",
    "warnings.filterwarnings(\"ignore\")\n",
    "\n",
    "import numpy as np\n",
    "import pandas as pd\n",
    "import joblib\n",
    "import matplotlib.pyplot as plt\n",
    "import seaborn as sns\n",
    "from prettytable import PrettyTable\n",
    "\n",
    "from sklearn.model_selection import RandomizedSearchCV\n",
    "from sklearn.model_selection import GridSearchCV\n",
    "\n",
    "from sklearn.metrics import log_loss\n",
    "\n",
    "from sklearn.linear_model import LogisticRegression\n",
    "from sklearn.tree import DecisionTreeClassifier\n",
    "from sklearn.ensemble import RandomForestClassifier\n",
    "import lightgbm as lgb\n",
    "import xgboost as xgb\n",
    "# import catboost as cb\n",
    "\n",
    "import tensorflow as tf\n",
    "from tensorflow.keras.models import Model\n",
    "from tensorflow.keras.layers import Input, LSTM, Flatten, Concatenate, Dense, Dropout, BatchNormalization\n",
    "from tensorflow.keras.callbacks import ModelCheckpoint\n",
    "from tensorflow.keras.callbacks import EarlyStopping\n",
    "from tensorflow.keras.models import load_model"
   ]
  },
  {
   "cell_type": "code",
   "execution_count": null,
   "metadata": {
    "id": "H031H8pKPgym"
   },
   "outputs": [],
   "source": [
    "# reference: https://machinelearningmastery.com/how-to-save-a-numpy-array-to-file-for-machine-learning/\n",
    "\n",
    "X_train = np.load('drive/My Drive/KKBox/actual_train.npz')\n",
    "y_train = np.load('drive/My Drive/KKBox/actual_train_labels.npz')\n",
    "X_cv = np.load('drive/My Drive/KKBox/actual_cv.npz')\n",
    "y_cv = np.load('drive/My Drive/KKBox/actual_cv_labels.npz')\n",
    "test_data = np.load('drive/My Drive/KKBox/actual_test.npz')"
   ]
  },
  {
   "cell_type": "code",
   "execution_count": null,
   "metadata": {
    "colab": {
     "base_uri": "https://localhost:8080/"
    },
    "id": "wrK7yNOOPgyw",
    "outputId": "d1758983-2894-4223-bcb8-b3bd4f7976a2"
   },
   "outputs": [
    {
     "name": "stdout",
     "output_type": "stream",
     "text": [
      "(776768, 57) (776768,)\n",
      "(194192, 57) (194192,)\n",
      "(907471, 57)\n"
     ]
    }
   ],
   "source": [
    "X_train = X_train['arr_0']\n",
    "X_cv = X_cv['arr_0']\n",
    "y_train = y_train['arr_0']\n",
    "y_cv = y_cv['arr_0']\n",
    "test_data = test_data['arr_0']\n",
    "\n",
    "# getting shapes\n",
    "print(X_train.shape, y_train.shape)\n",
    "print(X_cv.shape, y_cv.shape)\n",
    "print(test_data.shape)"
   ]
  },
  {
   "cell_type": "code",
   "execution_count": null,
   "metadata": {
    "id": "Y_QYRCGLPgy7"
   },
   "outputs": [],
   "source": [
    "# loading columns\n",
    "cols = np.load('../Prepare Data/columns.npz')\n",
    "# converting numpy array to python list\n",
    "cols = cols['arr_0'].tolist()\n",
    "# removing first two cols 'msno' and 'is_churn'\n",
    "cols = cols[2:]"
   ]
  },
  {
   "cell_type": "markdown",
   "metadata": {
    "id": "5b3yivqxPgzD"
   },
   "source": [
    "## Logistic Regression"
   ]
  },
  {
   "cell_type": "code",
   "execution_count": null,
   "metadata": {
    "id": "kj5sqexpPgzE",
    "outputId": "c1c7776c-baae-4580-98aa-cd8ecf328008"
   },
   "outputs": [
    {
     "name": "stdout",
     "output_type": "stream",
     "text": [
      "Fitting 5 folds for each of 7 candidates, totalling 35 fits\n"
     ]
    },
    {
     "name": "stderr",
     "output_type": "stream",
     "text": [
      "[Parallel(n_jobs=-1)]: Using backend LokyBackend with 8 concurrent workers.\n",
      "[Parallel(n_jobs=-1)]: Done   2 tasks      | elapsed:    6.9s\n",
      "[Parallel(n_jobs=-1)]: Done   9 tasks      | elapsed:   18.1s\n",
      "[Parallel(n_jobs=-1)]: Done  16 tasks      | elapsed:   33.8s\n",
      "[Parallel(n_jobs=-1)]: Done  24 out of  35 | elapsed:   53.3s remaining:   24.4s\n",
      "[Parallel(n_jobs=-1)]: Done  28 out of  35 | elapsed:  1.1min remaining:   16.8s\n",
      "[Parallel(n_jobs=-1)]: Done  32 out of  35 | elapsed:  1.2min remaining:    6.7s\n",
      "[Parallel(n_jobs=-1)]: Done  35 out of  35 | elapsed:  1.3min finished\n"
     ]
    },
    {
     "data": {
      "text/plain": [
       "{'C': 10}"
      ]
     },
     "execution_count": 5,
     "metadata": {
      "tags": []
     },
     "output_type": "execute_result"
    }
   ],
   "source": [
    "# logistic regression model\n",
    "lr_model = LogisticRegression()\n",
    "\n",
    "params = {'C' : [0.0001,0.001,0.01,0.1,1,10,100]}\n",
    "\n",
    "# Random search cv\n",
    "rs_lr = RandomizedSearchCV(lr_model, param_distributions=params, verbose=10, n_jobs=-1)\n",
    "rs_lr.fit(X_train, y_train)\n",
    "# getting best parameters\n",
    "rs_lr.best_params_"
   ]
  },
  {
   "cell_type": "code",
   "execution_count": null,
   "metadata": {
    "id": "QJh-iVOpPgzN",
    "outputId": "ff7f64c0-55f0-4553-b7f3-751ebac3f128"
   },
   "outputs": [
    {
     "name": "stdout",
     "output_type": "stream",
     "text": [
      "CPU times: user 200 ms, sys: 216 ms, total: 416 ms\n",
      "Wall time: 6min 48s\n"
     ]
    },
    {
     "data": {
      "text/plain": [
       "LogisticRegression(C=10, class_weight='balanced', n_jobs=-1, solver='newton-cg')"
      ]
     },
     "execution_count": 6,
     "metadata": {
      "tags": []
     },
     "output_type": "execute_result"
    }
   ],
   "source": [
    "%%time\n",
    "\n",
    "# fitting logistic regression model with best parameter values\n",
    "lr_model = LogisticRegression(penalty='l2', tol=0.0001, C=10, solver='newton-cg', class_weight='balanced', n_jobs=-1)\n",
    "lr_model.fit(X_train, y_train)"
   ]
  },
  {
   "cell_type": "code",
   "execution_count": null,
   "metadata": {
    "id": "jyZy0j-XPgzU",
    "outputId": "f20a2293-8a2b-4554-c264-41b9cc4feedf"
   },
   "outputs": [
    {
     "data": {
      "text/plain": [
       "['finalized_model_lr.sav']"
      ]
     },
     "execution_count": 7,
     "metadata": {
      "tags": []
     },
     "output_type": "execute_result"
    }
   ],
   "source": [
    "# Reference: https://machinelearningmastery.com/save-load-machine-learning-models-python-scikit-learn/#:~:text=Saving%20Your%20Model-,Save%20Your%20Model%20with%20pickle,it%20to%20make%20new%20predictions.\n",
    "# saving the trained logistic regression ML model\n",
    "filename = 'finalized_model_lr.sav'\n",
    "joblib.dump(lr_model, filename)"
   ]
  },
  {
   "cell_type": "markdown",
   "metadata": {
    "id": "KkXjg7n1Pgzh"
   },
   "source": [
    "### Using best model"
   ]
  },
  {
   "cell_type": "code",
   "execution_count": null,
   "metadata": {
    "id": "9p85igkoPgzi"
   },
   "outputs": [],
   "source": [
    "# loading the best model from disk\n",
    "filename = 'finalized_model_lr.sav'\n",
    "loaded_model = joblib.load(filename)"
   ]
  },
  {
   "cell_type": "code",
   "execution_count": null,
   "metadata": {
    "id": "s3TG-FvjPgzp",
    "outputId": "be10015c-16e3-45cc-bef1-5b153133fe4f"
   },
   "outputs": [
    {
     "name": "stdout",
     "output_type": "stream",
     "text": [
      "train log-loss:  0.2874875903364252\n",
      "cv log-loss:  0.2857579071007114\n"
     ]
    }
   ],
   "source": [
    "# predicting probabilities for X_train\n",
    "pred_train = loaded_model.predict_proba(X_train)\n",
    "# getting probabilities corresponding to class label 1 only\n",
    "pred_train = pred_train[:,1]\n",
    "# calculating log loss\n",
    "print('train log-loss: ', log_loss(y_train, pred_train))\n",
    "\n",
    "# predicting probabilities for X_cv\n",
    "pred_cv = loaded_model.predict_proba(X_cv)\n",
    "# getting probabilities corresponding to class label 1 only\n",
    "pred_cv = pred_cv[:,1]\n",
    "# calculating log loss\n",
    "print('cv log-loss: ', log_loss(y_cv, pred_cv))"
   ]
  },
  {
   "cell_type": "code",
   "execution_count": null,
   "metadata": {
    "id": "Yarfwu0SPgzx",
    "outputId": "afdde72b-a788-4d4b-aad3-04c7a60a77a2"
   },
   "outputs": [
    {
     "name": "stdout",
     "output_type": "stream",
     "text": [
      "Feature: 0, Score: 92.95470\n",
      "Feature: 1, Score: 51.62558\n",
      "Feature: 2, Score: 44.09034\n",
      "Feature: 3, Score: 37.23306\n",
      "Feature: 4, Score: 30.70314\n",
      "Feature: 5, Score: 23.31642\n",
      "Feature: 6, Score: 8.86896\n",
      "Feature: 7, Score: 7.12494\n",
      "Feature: 8, Score: 6.86370\n",
      "Feature: 9, Score: 6.75550\n"
     ]
    }
   ],
   "source": [
    "# getting important features\n",
    "imp_features = loaded_model.coef_\n",
    "# converting 2-d numpy array to 1-d\n",
    "imp_features = imp_features.flatten()\n",
    "# sorting in descending order\n",
    "imp_features = sorted(imp_features, reverse=True)\n",
    "# taking top 10 most important features only\n",
    "imp_features = imp_features[:10]\n",
    "\n",
    "# printing them\n",
    "for i, v in enumerate(imp_features):\n",
    "    print('Feature: %0d, Score: %.5f' % (i,v))"
   ]
  },
  {
   "cell_type": "code",
   "execution_count": null,
   "metadata": {
    "id": "KIi4PCwxPgz4",
    "outputId": "4416c0f2-6bc6-4c84-dd00-e855c243f858"
   },
   "outputs": [
    {
     "data": {
      "text/plain": [
       "array([0.11424627, 0.02807819, 0.06450378, ..., 0.06407625, 0.04282128,\n",
       "       0.0311506 ])"
      ]
     },
     "execution_count": 8,
     "metadata": {
      "tags": []
     },
     "output_type": "execute_result"
    }
   ],
   "source": [
    "# predicting probabilities for test data\n",
    "pred_test = loaded_model.predict_proba(test_data)\n",
    "# getting probabilities corresponding to class label 1 only\n",
    "pred_test = pred_test[:,1]\n",
    "# printing them\n",
    "pred_test"
   ]
  },
  {
   "cell_type": "code",
   "execution_count": null,
   "metadata": {
    "id": "NCu8lY6nPg0B",
    "outputId": "707d9b4b-6dce-4013-d486-1b6dd201d335"
   },
   "outputs": [
    {
     "data": {
      "text/html": [
       "<div>\n",
       "<style scoped>\n",
       "    .dataframe tbody tr th:only-of-type {\n",
       "        vertical-align: middle;\n",
       "    }\n",
       "\n",
       "    .dataframe tbody tr th {\n",
       "        vertical-align: top;\n",
       "    }\n",
       "\n",
       "    .dataframe thead th {\n",
       "        text-align: right;\n",
       "    }\n",
       "</style>\n",
       "<table border=\"1\" class=\"dataframe\">\n",
       "  <thead>\n",
       "    <tr style=\"text-align: right;\">\n",
       "      <th></th>\n",
       "      <th>msno</th>\n",
       "    </tr>\n",
       "  </thead>\n",
       "  <tbody>\n",
       "    <tr>\n",
       "      <th>0</th>\n",
       "      <td>4n+fXlyJvfQnTeKXTWT507Ll4JVYGrOC8LHCfwBmPE4=</td>\n",
       "    </tr>\n",
       "    <tr>\n",
       "      <th>1</th>\n",
       "      <td>aNmbC1GvFUxQyQUidCVmfbQ0YeCuwkPzEdQ0RwWyeZM=</td>\n",
       "    </tr>\n",
       "    <tr>\n",
       "      <th>2</th>\n",
       "      <td>rFC9eSG/tMuzpre6cwcMLZHEYM89xY02qcz7HL4//jc=</td>\n",
       "    </tr>\n",
       "    <tr>\n",
       "      <th>3</th>\n",
       "      <td>WZ59dLyrQcE7ft06MZ5dj40BnlYQY7PHgg/54+HaCSE=</td>\n",
       "    </tr>\n",
       "    <tr>\n",
       "      <th>4</th>\n",
       "      <td>aky/Iv8hMp1/V/yQHLtaVuEmmAxkB5GuasQZePJ7NU4=</td>\n",
       "    </tr>\n",
       "  </tbody>\n",
       "</table>\n",
       "</div>"
      ],
      "text/plain": [
       "                                           msno\n",
       "0  4n+fXlyJvfQnTeKXTWT507Ll4JVYGrOC8LHCfwBmPE4=\n",
       "1  aNmbC1GvFUxQyQUidCVmfbQ0YeCuwkPzEdQ0RwWyeZM=\n",
       "2  rFC9eSG/tMuzpre6cwcMLZHEYM89xY02qcz7HL4//jc=\n",
       "3  WZ59dLyrQcE7ft06MZ5dj40BnlYQY7PHgg/54+HaCSE=\n",
       "4  aky/Iv8hMp1/V/yQHLtaVuEmmAxkB5GuasQZePJ7NU4="
      ]
     },
     "execution_count": 9,
     "metadata": {
      "tags": []
     },
     "output_type": "execute_result"
    }
   ],
   "source": [
    "# loading sample submission file\n",
    "submit = pd.read_csv('../Data/sample_submission_v2.csv')\n",
    "# dropping default labels\n",
    "submit = submit.drop('is_churn', axis=1, inplace=False)\n",
    "# getting head(top 5 rows)\n",
    "submit.head()"
   ]
  },
  {
   "cell_type": "code",
   "execution_count": null,
   "metadata": {
    "id": "0mWwTKYGPg0L",
    "outputId": "756f0de4-6ccc-4740-d8c7-5f8c6fc1e66c"
   },
   "outputs": [
    {
     "data": {
      "text/html": [
       "<div>\n",
       "<style scoped>\n",
       "    .dataframe tbody tr th:only-of-type {\n",
       "        vertical-align: middle;\n",
       "    }\n",
       "\n",
       "    .dataframe tbody tr th {\n",
       "        vertical-align: top;\n",
       "    }\n",
       "\n",
       "    .dataframe thead th {\n",
       "        text-align: right;\n",
       "    }\n",
       "</style>\n",
       "<table border=\"1\" class=\"dataframe\">\n",
       "  <thead>\n",
       "    <tr style=\"text-align: right;\">\n",
       "      <th></th>\n",
       "      <th>msno</th>\n",
       "      <th>is_churn</th>\n",
       "    </tr>\n",
       "  </thead>\n",
       "  <tbody>\n",
       "    <tr>\n",
       "      <th>0</th>\n",
       "      <td>4n+fXlyJvfQnTeKXTWT507Ll4JVYGrOC8LHCfwBmPE4=</td>\n",
       "      <td>0.068548</td>\n",
       "    </tr>\n",
       "    <tr>\n",
       "      <th>1</th>\n",
       "      <td>aNmbC1GvFUxQyQUidCVmfbQ0YeCuwkPzEdQ0RwWyeZM=</td>\n",
       "      <td>0.016847</td>\n",
       "    </tr>\n",
       "    <tr>\n",
       "      <th>2</th>\n",
       "      <td>rFC9eSG/tMuzpre6cwcMLZHEYM89xY02qcz7HL4//jc=</td>\n",
       "      <td>0.038702</td>\n",
       "    </tr>\n",
       "    <tr>\n",
       "      <th>3</th>\n",
       "      <td>WZ59dLyrQcE7ft06MZ5dj40BnlYQY7PHgg/54+HaCSE=</td>\n",
       "      <td>0.052784</td>\n",
       "    </tr>\n",
       "    <tr>\n",
       "      <th>4</th>\n",
       "      <td>aky/Iv8hMp1/V/yQHLtaVuEmmAxkB5GuasQZePJ7NU4=</td>\n",
       "      <td>0.051908</td>\n",
       "    </tr>\n",
       "  </tbody>\n",
       "</table>\n",
       "</div>"
      ],
      "text/plain": [
       "                                           msno  is_churn\n",
       "0  4n+fXlyJvfQnTeKXTWT507Ll4JVYGrOC8LHCfwBmPE4=  0.068548\n",
       "1  aNmbC1GvFUxQyQUidCVmfbQ0YeCuwkPzEdQ0RwWyeZM=  0.016847\n",
       "2  rFC9eSG/tMuzpre6cwcMLZHEYM89xY02qcz7HL4//jc=  0.038702\n",
       "3  WZ59dLyrQcE7ft06MZ5dj40BnlYQY7PHgg/54+HaCSE=  0.052784\n",
       "4  aky/Iv8hMp1/V/yQHLtaVuEmmAxkB5GuasQZePJ7NU4=  0.051908"
      ]
     },
     "execution_count": 10,
     "metadata": {
      "tags": []
     },
     "output_type": "execute_result"
    }
   ],
   "source": [
    "# multiplying 0.6 with each of the probabilities\n",
    "submit['is_churn'] = pred_test * 0.6\n",
    "# getting head(top 5 rows)\n",
    "submit.head()"
   ]
  },
  {
   "cell_type": "code",
   "execution_count": null,
   "metadata": {
    "id": "KBiryzDUPg0T"
   },
   "outputs": [],
   "source": [
    "# saving csv to the disk\n",
    "submit.to_csv('submission_lr075.csv', index=False)"
   ]
  },
  {
   "cell_type": "markdown",
   "metadata": {
    "id": "4QUPi0XmPg0c"
   },
   "source": [
    "**By using this Logistic Regression model, I got 0.15197 as public leaderboard test log-loss, and 0.15148 as private leaderboard test log-loss.**"
   ]
  },
  {
   "attachments": {
    "image.png": {
     "image/png": "[encoded data removed]"
    }
   },
   "cell_type": "markdown",
   "metadata": {},
   "source": [
    "![image.png](attachment:image.png)"
   ]
  },
  {
   "cell_type": "markdown",
   "metadata": {
    "id": "p5qv0FH9Pg0f"
   },
   "source": [
    "## Decision tree"
   ]
  },
  {
   "cell_type": "code",
   "execution_count": null,
   "metadata": {
    "id": "t3HRgRXSPg0g",
    "outputId": "f2e91027-71a1-42ff-8fc9-dbf7fa8d6d9c"
   },
   "outputs": [
    {
     "name": "stdout",
     "output_type": "stream",
     "text": [
      "Fitting 5 folds for each of 10 candidates, totalling 50 fits\n"
     ]
    },
    {
     "name": "stderr",
     "output_type": "stream",
     "text": [
      "[Parallel(n_jobs=-1)]: Using backend LokyBackend with 8 concurrent workers.\n",
      "[Parallel(n_jobs=-1)]: Done   2 tasks      | elapsed:    3.2s\n",
      "[Parallel(n_jobs=-1)]: Done   9 tasks      | elapsed:   11.7s\n",
      "[Parallel(n_jobs=-1)]: Done  16 tasks      | elapsed:   17.0s\n",
      "[Parallel(n_jobs=-1)]: Done  25 tasks      | elapsed:   25.1s\n",
      "[Parallel(n_jobs=-1)]: Done  34 tasks      | elapsed:   34.0s\n",
      "[Parallel(n_jobs=-1)]: Done  41 out of  50 | elapsed:   40.0s remaining:    8.8s\n",
      "[Parallel(n_jobs=-1)]: Done  47 out of  50 | elapsed:   48.4s remaining:    3.1s\n",
      "[Parallel(n_jobs=-1)]: Done  50 out of  50 | elapsed:   49.9s finished\n"
     ]
    },
    {
     "name": "stdout",
     "output_type": "stream",
     "text": [
      "CPU times: user 8.9 s, sys: 356 ms, total: 9.26 s\n",
      "Wall time: 58.8 s\n"
     ]
    },
    {
     "data": {
      "text/plain": [
       "{'splitter': 'best',\n",
       " 'min_samples_split': 3,\n",
       " 'min_samples_leaf': 1,\n",
       " 'max_depth': 5,\n",
       " 'criterion': 'gini'}"
      ]
     },
     "execution_count": 5,
     "metadata": {
      "tags": []
     },
     "output_type": "execute_result"
    }
   ],
   "source": [
    "%%time\n",
    "\n",
    "# decision tree classifier model\n",
    "dtc_model = DecisionTreeClassifier()\n",
    "\n",
    "params = {'max_depth' : [2,3,5,7,10,15],\n",
    "          'min_samples_split' : [2,3,5,7,10],\n",
    "          'min_samples_leaf' : [1,2,3],\n",
    "          'criterion' : ['gini', 'entropy'],\n",
    "          'splitter' : ['best', 'random']}\n",
    "\n",
    "# Random search cv\n",
    "rs_dtc = RandomizedSearchCV(dtc_model, param_distributions=params, verbose=10, n_jobs=-1)\n",
    "rs_dtc.fit(X_train, y_train)\n",
    "# getting best parameters\n",
    "rs_dtc.best_params_"
   ]
  },
  {
   "cell_type": "code",
   "execution_count": null,
   "metadata": {
    "id": "BhYwjAZpPg0p",
    "outputId": "2f87ca40-961d-4540-e9c3-dfd06926148b"
   },
   "outputs": [
    {
     "name": "stdout",
     "output_type": "stream",
     "text": [
      "CPU times: user 8.62 s, sys: 52 ms, total: 8.68 s\n",
      "Wall time: 8.67 s\n"
     ]
    },
    {
     "data": {
      "text/plain": [
       "DecisionTreeClassifier(max_depth=5, min_samples_split=3)"
      ]
     },
     "execution_count": 6,
     "metadata": {
      "tags": []
     },
     "output_type": "execute_result"
    }
   ],
   "source": [
    "%%time\n",
    "\n",
    "# training a decision tree classifier model with best parameters\n",
    "dtc_model = DecisionTreeClassifier(criterion='gini', splitter='best', max_depth=5, min_samples_split=3, min_samples_leaf=1)\n",
    "dtc_model.fit(X_train, y_train)"
   ]
  },
  {
   "cell_type": "code",
   "execution_count": null,
   "metadata": {
    "id": "yg3jhcWuPg0z",
    "outputId": "c1069480-6a68-45d7-c635-920ad8d253cd"
   },
   "outputs": [
    {
     "data": {
      "text/plain": [
       "['finalized_model_dtc.sav']"
      ]
     },
     "execution_count": 7,
     "metadata": {
      "tags": []
     },
     "output_type": "execute_result"
    }
   ],
   "source": [
    "# https://machinelearningmastery.com/save-load-machine-learning-models-python-scikit-learn/#:~:text=Saving%20Your%20Model-,Save%20Your%20Model%20with%20pickle,it%20to%20make%20new%20predictions.\n",
    "# saving the decision tree classifier model\n",
    "filename = 'finalized_model_dtc.sav'\n",
    "joblib.dump(dtc_model, filename)"
   ]
  },
  {
   "cell_type": "markdown",
   "metadata": {
    "id": "qs2Pz0okPg07"
   },
   "source": [
    "### Using best model"
   ]
  },
  {
   "cell_type": "code",
   "execution_count": null,
   "metadata": {
    "id": "HvigUw0EPg08"
   },
   "outputs": [],
   "source": [
    "# loading the best decision tree classifier model from disk\n",
    "filename = 'finalized_model_dtc.sav'\n",
    "loaded_model = joblib.load(filename)"
   ]
  },
  {
   "cell_type": "code",
   "execution_count": null,
   "metadata": {
    "id": "fOqmJ1W-Pg1D",
    "outputId": "4a6b8e2c-3e13-4954-c2d9-630f7114c41c"
   },
   "outputs": [
    {
     "name": "stdout",
     "output_type": "stream",
     "text": [
      "train log-loss:  0.10728510049668556\n",
      "cv log-loss:  0.1084942996632845\n"
     ]
    }
   ],
   "source": [
    "# predicting probabilities for X_train\n",
    "pred_train = loaded_model.predict_proba(X_train)\n",
    "# getting probabilities corresponding to class label 1 only\n",
    "pred_train = pred_train[:,1]\n",
    "# calculating log loss\n",
    "print('train log-loss: ', log_loss(y_train, pred_train))\n",
    "\n",
    "# predicting probabilities for X_cv\n",
    "pred_cv = loaded_model.predict_proba(X_cv)\n",
    "# getting probabilities corresponding to class label 1 only\n",
    "pred_cv = pred_cv[:,1]\n",
    "# calculating log loss\n",
    "print('cv log-loss: ', log_loss(y_cv, pred_cv))"
   ]
  },
  {
   "cell_type": "code",
   "execution_count": null,
   "metadata": {
    "id": "h0W-dKb7Pg1L",
    "outputId": "aea8d638-917e-4a4f-c5ef-996de621a62b"
   },
   "outputs": [
    {
     "name": "stdout",
     "output_type": "stream",
     "text": [
      "Feature: 0, Score: 0.49952\n",
      "Feature: 1, Score: 0.33384\n",
      "Feature: 2, Score: 0.04993\n",
      "Feature: 3, Score: 0.04481\n",
      "Feature: 4, Score: 0.02990\n",
      "Feature: 5, Score: 0.02616\n",
      "Feature: 6, Score: 0.01147\n",
      "Feature: 7, Score: 0.00132\n",
      "Feature: 8, Score: 0.00102\n",
      "Feature: 9, Score: 0.00085\n"
     ]
    }
   ],
   "source": [
    "# getting important features\n",
    "imp_features = loaded_model.feature_importances_\n",
    "# sorting them in descending order\n",
    "imp_features = sorted(imp_features, reverse=True)\n",
    "# getting top 10 important features\n",
    "imp_features = imp_features[:10]\n",
    "\n",
    "# printing them\n",
    "for i, v in enumerate(imp_features):\n",
    "    print('Feature: %0d, Score: %.5f' % (i,v))"
   ]
  },
  {
   "cell_type": "code",
   "execution_count": null,
   "metadata": {
    "id": "CKmoap7EPg1S",
    "outputId": "c107926a-c8df-4e68-cc7d-07520102cd22"
   },
   "outputs": [
    {
     "data": {
      "text/plain": [
       "array([0.01159075, 0.01159075, 0.01159075, ..., 0.01159075, 0.01159075,\n",
       "       0.01159075])"
      ]
     },
     "execution_count": 8,
     "metadata": {
      "tags": []
     },
     "output_type": "execute_result"
    }
   ],
   "source": [
    "# calcuating probabilities for test set\n",
    "pred_test = loaded_model.predict_proba(test_data)\n",
    "# getting probabilities corresponding to class label 1 only\n",
    "pred_test = pred_test[:,1]\n",
    "# pringing them\n",
    "pred_test"
   ]
  },
  {
   "cell_type": "code",
   "execution_count": null,
   "metadata": {
    "id": "OBjYScIZPg1Z",
    "outputId": "c74d52e0-231f-424c-c86d-95c81446694a"
   },
   "outputs": [
    {
     "data": {
      "text/html": [
       "<div>\n",
       "<style scoped>\n",
       "    .dataframe tbody tr th:only-of-type {\n",
       "        vertical-align: middle;\n",
       "    }\n",
       "\n",
       "    .dataframe tbody tr th {\n",
       "        vertical-align: top;\n",
       "    }\n",
       "\n",
       "    .dataframe thead th {\n",
       "        text-align: right;\n",
       "    }\n",
       "</style>\n",
       "<table border=\"1\" class=\"dataframe\">\n",
       "  <thead>\n",
       "    <tr style=\"text-align: right;\">\n",
       "      <th></th>\n",
       "      <th>msno</th>\n",
       "    </tr>\n",
       "  </thead>\n",
       "  <tbody>\n",
       "    <tr>\n",
       "      <th>0</th>\n",
       "      <td>4n+fXlyJvfQnTeKXTWT507Ll4JVYGrOC8LHCfwBmPE4=</td>\n",
       "    </tr>\n",
       "    <tr>\n",
       "      <th>1</th>\n",
       "      <td>aNmbC1GvFUxQyQUidCVmfbQ0YeCuwkPzEdQ0RwWyeZM=</td>\n",
       "    </tr>\n",
       "    <tr>\n",
       "      <th>2</th>\n",
       "      <td>rFC9eSG/tMuzpre6cwcMLZHEYM89xY02qcz7HL4//jc=</td>\n",
       "    </tr>\n",
       "    <tr>\n",
       "      <th>3</th>\n",
       "      <td>WZ59dLyrQcE7ft06MZ5dj40BnlYQY7PHgg/54+HaCSE=</td>\n",
       "    </tr>\n",
       "    <tr>\n",
       "      <th>4</th>\n",
       "      <td>aky/Iv8hMp1/V/yQHLtaVuEmmAxkB5GuasQZePJ7NU4=</td>\n",
       "    </tr>\n",
       "  </tbody>\n",
       "</table>\n",
       "</div>"
      ],
      "text/plain": [
       "                                           msno\n",
       "0  4n+fXlyJvfQnTeKXTWT507Ll4JVYGrOC8LHCfwBmPE4=\n",
       "1  aNmbC1GvFUxQyQUidCVmfbQ0YeCuwkPzEdQ0RwWyeZM=\n",
       "2  rFC9eSG/tMuzpre6cwcMLZHEYM89xY02qcz7HL4//jc=\n",
       "3  WZ59dLyrQcE7ft06MZ5dj40BnlYQY7PHgg/54+HaCSE=\n",
       "4  aky/Iv8hMp1/V/yQHLtaVuEmmAxkB5GuasQZePJ7NU4="
      ]
     },
     "execution_count": 9,
     "metadata": {
      "tags": []
     },
     "output_type": "execute_result"
    }
   ],
   "source": [
    "# loading sample submission file\n",
    "submit = pd.read_csv('../Data/sample_submission_v2.csv')\n",
    "# dropping default class labels\n",
    "submit = submit.drop('is_churn', axis=1, inplace=False)\n",
    "# getting head(top 5 rows)\n",
    "submit.head()"
   ]
  },
  {
   "cell_type": "code",
   "execution_count": null,
   "metadata": {
    "id": "xHb5S8BdPg1j",
    "outputId": "dd8762d7-12a7-4bb9-d5fe-e000fa21d57d"
   },
   "outputs": [
    {
     "data": {
      "text/html": [
       "<div>\n",
       "<style scoped>\n",
       "    .dataframe tbody tr th:only-of-type {\n",
       "        vertical-align: middle;\n",
       "    }\n",
       "\n",
       "    .dataframe tbody tr th {\n",
       "        vertical-align: top;\n",
       "    }\n",
       "\n",
       "    .dataframe thead th {\n",
       "        text-align: right;\n",
       "    }\n",
       "</style>\n",
       "<table border=\"1\" class=\"dataframe\">\n",
       "  <thead>\n",
       "    <tr style=\"text-align: right;\">\n",
       "      <th></th>\n",
       "      <th>msno</th>\n",
       "      <th>is_churn</th>\n",
       "    </tr>\n",
       "  </thead>\n",
       "  <tbody>\n",
       "    <tr>\n",
       "      <th>0</th>\n",
       "      <td>4n+fXlyJvfQnTeKXTWT507Ll4JVYGrOC8LHCfwBmPE4=</td>\n",
       "      <td>0.006954</td>\n",
       "    </tr>\n",
       "    <tr>\n",
       "      <th>1</th>\n",
       "      <td>aNmbC1GvFUxQyQUidCVmfbQ0YeCuwkPzEdQ0RwWyeZM=</td>\n",
       "      <td>0.006954</td>\n",
       "    </tr>\n",
       "    <tr>\n",
       "      <th>2</th>\n",
       "      <td>rFC9eSG/tMuzpre6cwcMLZHEYM89xY02qcz7HL4//jc=</td>\n",
       "      <td>0.006954</td>\n",
       "    </tr>\n",
       "    <tr>\n",
       "      <th>3</th>\n",
       "      <td>WZ59dLyrQcE7ft06MZ5dj40BnlYQY7PHgg/54+HaCSE=</td>\n",
       "      <td>0.006954</td>\n",
       "    </tr>\n",
       "    <tr>\n",
       "      <th>4</th>\n",
       "      <td>aky/Iv8hMp1/V/yQHLtaVuEmmAxkB5GuasQZePJ7NU4=</td>\n",
       "      <td>0.006954</td>\n",
       "    </tr>\n",
       "  </tbody>\n",
       "</table>\n",
       "</div>"
      ],
      "text/plain": [
       "                                           msno  is_churn\n",
       "0  4n+fXlyJvfQnTeKXTWT507Ll4JVYGrOC8LHCfwBmPE4=  0.006954\n",
       "1  aNmbC1GvFUxQyQUidCVmfbQ0YeCuwkPzEdQ0RwWyeZM=  0.006954\n",
       "2  rFC9eSG/tMuzpre6cwcMLZHEYM89xY02qcz7HL4//jc=  0.006954\n",
       "3  WZ59dLyrQcE7ft06MZ5dj40BnlYQY7PHgg/54+HaCSE=  0.006954\n",
       "4  aky/Iv8hMp1/V/yQHLtaVuEmmAxkB5GuasQZePJ7NU4=  0.006954"
      ]
     },
     "execution_count": 10,
     "metadata": {
      "tags": []
     },
     "output_type": "execute_result"
    }
   ],
   "source": [
    "# multiplying 0.6 with class labels, and assigning them to new feature 'is_churn'\n",
    "submit['is_churn'] = pred_test * 0.6\n",
    "# getting head(top 5 rows)\n",
    "submit.head()"
   ]
  },
  {
   "cell_type": "code",
   "execution_count": null,
   "metadata": {
    "id": "oJvqLqWoPg1u"
   },
   "outputs": [],
   "source": [
    "# saving csv file to the disk\n",
    "submit.to_csv('submission_dtc075.csv', index=False)"
   ]
  },
  {
   "cell_type": "markdown",
   "metadata": {
    "id": "lm6rolvAPg11"
   },
   "source": [
    "**By using this Decision tree model, I got 0.15749 on public leaderboard as test log-loss, and 0.15624 on private leaderboard as test log-loss.**"
   ]
  },
  {
   "attachments": {
    "image.png": {
     "image/png": "[encoded data removed]"
    }
   },
   "cell_type": "markdown",
   "metadata": {},
   "source": [
    "![image.png](attachment:image.png)"
   ]
  },
  {
   "cell_type": "markdown",
   "metadata": {
    "id": "0HwMKzD_Pg12"
   },
   "source": [
    "## Random Forest"
   ]
  },
  {
   "cell_type": "code",
   "execution_count": null,
   "metadata": {
    "id": "FMIgzzrRPg14",
    "outputId": "66d5664b-3c59-45d7-c991-01914f13ec26"
   },
   "outputs": [
    {
     "name": "stdout",
     "output_type": "stream",
     "text": [
      "Fitting 5 folds for each of 10 candidates, totalling 50 fits\n",
      "[Parallel(n_jobs=-1)]: Using backend LokyBackend with 8 concurrent workers.\n",
      "[Parallel(n_jobs=-1)]: Done   1 tasks      | elapsed:  2.5min\n",
      "[Parallel(n_jobs=-1)]: Done   2 tasks      | elapsed:  2.5min\n",
      "[Parallel(n_jobs=-1)]: Done   3 tasks      | elapsed:  2.6min\n",
      "[Parallel(n_jobs=-1)]: Done   4 tasks      | elapsed:  5.0min\n",
      "[Parallel(n_jobs=-1)]: Done   5 tasks      | elapsed:  5.1min\n",
      "[Parallel(n_jobs=-1)]: Done   6 tasks      | elapsed:  7.7min\n",
      "[Parallel(n_jobs=-1)]: Done   7 tasks      | elapsed:  7.8min\n",
      "[Parallel(n_jobs=-1)]: Done   8 tasks      | elapsed:  8.5min\n",
      "[Parallel(n_jobs=-1)]: Done   9 tasks      | elapsed:  8.7min\n",
      "[Parallel(n_jobs=-1)]: Done  10 tasks      | elapsed:  8.8min\n",
      "[Parallel(n_jobs=-1)]: Done  11 tasks      | elapsed: 18.2min\n",
      "[Parallel(n_jobs=-1)]: Done  12 tasks      | elapsed: 19.2min\n",
      "[Parallel(n_jobs=-1)]: Done  13 tasks      | elapsed: 19.3min\n",
      "[Parallel(n_jobs=-1)]: Done  14 tasks      | elapsed: 27.5min\n",
      "[Parallel(n_jobs=-1)]: Done  15 tasks      | elapsed: 28.8min\n",
      "[Parallel(n_jobs=-1)]: Done  16 tasks      | elapsed: 39.5min\n",
      "[Parallel(n_jobs=-1)]: Done  17 tasks      | elapsed: 40.2min\n",
      "[Parallel(n_jobs=-1)]: Done  18 tasks      | elapsed: 42.3min\n",
      "[Parallel(n_jobs=-1)]: Done  19 tasks      | elapsed: 42.8min\n",
      "[Parallel(n_jobs=-1)]: Done  20 tasks      | elapsed: 43.7min\n",
      "[Parallel(n_jobs=-1)]: Done  21 tasks      | elapsed: 44.8min\n",
      "[Parallel(n_jobs=-1)]: Done  22 tasks      | elapsed: 46.0min\n",
      "[Parallel(n_jobs=-1)]: Done  23 tasks      | elapsed: 46.8min\n",
      "[Parallel(n_jobs=-1)]: Done  24 tasks      | elapsed: 60.2min\n",
      "[Parallel(n_jobs=-1)]: Done  25 tasks      | elapsed: 61.5min\n",
      "[Parallel(n_jobs=-1)]: Done  26 tasks      | elapsed: 71.2min\n",
      "[Parallel(n_jobs=-1)]: Done  27 tasks      | elapsed: 85.1min\n",
      "[Parallel(n_jobs=-1)]: Done  28 tasks      | elapsed: 93.1min\n",
      "[Parallel(n_jobs=-1)]: Done  29 tasks      | elapsed: 95.4min\n",
      "[Parallel(n_jobs=-1)]: Done  30 tasks      | elapsed: 104.1min\n",
      "[Parallel(n_jobs=-1)]: Done  31 tasks      | elapsed: 104.3min\n",
      "[Parallel(n_jobs=-1)]: Done  32 tasks      | elapsed: 112.8min\n",
      "[Parallel(n_jobs=-1)]: Done  33 tasks      | elapsed: 113.0min\n",
      "[Parallel(n_jobs=-1)]: Done  34 tasks      | elapsed: 113.1min\n",
      "[Parallel(n_jobs=-1)]: Done  35 tasks      | elapsed: 114.7min\n",
      "[Parallel(n_jobs=-1)]: Done  37 out of  50 | elapsed: 115.2min remaining: 40.5min\n",
      "[Parallel(n_jobs=-1)]: Done  39 out of  50 | elapsed: 116.0min remaining: 32.7min\n",
      "[Parallel(n_jobs=-1)]: Done  41 out of  50 | elapsed: 118.9min remaining: 26.1min\n",
      "[Parallel(n_jobs=-1)]: Done  43 out of  50 | elapsed: 120.7min remaining: 19.6min\n",
      "[Parallel(n_jobs=-1)]: Done  45 out of  50 | elapsed: 123.9min remaining: 13.8min\n",
      "[Parallel(n_jobs=-1)]: Done  47 out of  50 | elapsed: 136.2min remaining:  8.7min\n",
      "[Parallel(n_jobs=-1)]: Done  50 out of  50 | elapsed: 138.5min finished\n"
     ]
    },
    {
     "data": {
      "text/plain": [
       "{'n_estimators': 500,\n",
       " 'min_samples_split': 3,\n",
       " 'min_samples_leaf': 2,\n",
       " 'max_features': 'sqrt',\n",
       " 'max_depth': 15,\n",
       " 'bootstrap': False}"
      ]
     },
     "execution_count": 5,
     "metadata": {
      "tags": []
     },
     "output_type": "execute_result"
    }
   ],
   "source": [
    "# Random forest classifier model\n",
    "rf_model = RandomForestClassifier()\n",
    "\n",
    "params = {'n_estimators' : [100,200,500,1000,2000],\n",
    "          'max_features' : ['auto', 'sqrt'],\n",
    "          'max_depth' : [2,3,5,10,15],\n",
    "          'min_samples_split' : [2,3,5,7,10],\n",
    "          'min_samples_leaf' : [1,2,3],\n",
    "          'bootstrap' : [True, False]}\n",
    "\n",
    "# Random search cv\n",
    "rs_rf = RandomizedSearchCV(rf_model, param_distributions=params, verbose=50, n_jobs=-1)\n",
    "rs_rf.fit(X_train, y_train)\n",
    "# getting best parameters\n",
    "rs_rf.best_params_"
   ]
  },
  {
   "cell_type": "code",
   "execution_count": null,
   "metadata": {
    "id": "qvd_YX3ePg2A",
    "outputId": "d6a2ba9c-ecde-4683-eeb9-a0a3b5cf4b76"
   },
   "outputs": [
    {
     "name": "stdout",
     "output_type": "stream",
     "text": [
      "CPU times: user 41min 3s, sys: 604 ms, total: 41min 3s\n",
      "Wall time: 5min 10s\n"
     ]
    },
    {
     "data": {
      "text/plain": [
       "RandomForestClassifier(bootstrap=False, max_depth=15, max_features='sqrt',\n",
       "                       min_samples_leaf=2, min_samples_split=3,\n",
       "                       n_estimators=500, n_jobs=-1)"
      ]
     },
     "execution_count": 6,
     "metadata": {
      "tags": []
     },
     "output_type": "execute_result"
    }
   ],
   "source": [
    "%%time\n",
    "\n",
    "# training the random forest classifier for best hyper parameters\n",
    "rf_model = RandomForestClassifier(n_estimators=500, criterion='gini', max_depth=15, min_samples_split=3, min_samples_leaf=2, max_features='sqrt', bootstrap=False, n_jobs=-1)\n",
    "rf_model.fit(X_train, y_train)"
   ]
  },
  {
   "cell_type": "code",
   "execution_count": null,
   "metadata": {
    "id": "0QE07eGfPg2I",
    "outputId": "c3793b8f-5036-4866-d2c1-cd5e7c5b2a21"
   },
   "outputs": [
    {
     "data": {
      "text/plain": [
       "['finalized_model_rfc.sav']"
      ]
     },
     "execution_count": 7,
     "metadata": {
      "tags": []
     },
     "output_type": "execute_result"
    }
   ],
   "source": [
    "# https://machinelearningmastery.com/save-load-machine-learning-models-python-scikit-learn/#:~:text=Saving%20Your%20Model-,Save%20Your%20Model%20with%20pickle,it%20to%20make%20new%20predictions.\n",
    "# saving best random forest classifier model\n",
    "filename = 'finalized_model_rfc.sav'\n",
    "joblib.dump(rf_model, filename)"
   ]
  },
  {
   "cell_type": "markdown",
   "metadata": {
    "id": "Z_RvSnclPg2O"
   },
   "source": [
    "### Using best model"
   ]
  },
  {
   "cell_type": "code",
   "execution_count": null,
   "metadata": {
    "id": "1GnmFoezPg2Q"
   },
   "outputs": [],
   "source": [
    "# loading the best random forst classifier model from disk\n",
    "filename = 'finalized_model_rfc.sav'\n",
    "loaded_model = joblib.load(filename)"
   ]
  },
  {
   "cell_type": "code",
   "execution_count": null,
   "metadata": {
    "id": "SSvqht5yPg2Y",
    "outputId": "27025ea0-6f4f-4873-a229-285df314f694"
   },
   "outputs": [
    {
     "name": "stdout",
     "output_type": "stream",
     "text": [
      "train log-loss:  0.06070016596494737\n",
      "cv log-loss:  0.07197515990426165\n"
     ]
    }
   ],
   "source": [
    "# predicting probabilities for X_train\n",
    "pred_train = loaded_model.predict_proba(X_train)\n",
    "# getting probabilities corresponding to class label 1 only\n",
    "pred_train = pred_train[:,1]\n",
    "# calculating log loss\n",
    "print('train log-loss: ', log_loss(y_train, pred_train))\n",
    "\n",
    "# predicting probabilities for X_cv\n",
    "pred_cv = loaded_model.predict_proba(X_cv)\n",
    "# getting probabilities corresponding to class label 1 only\n",
    "pred_cv = pred_cv[:,1]\n",
    "# calculating log loss\n",
    "print('cv log-loss: ', log_loss(y_cv, pred_cv))"
   ]
  },
  {
   "cell_type": "code",
   "execution_count": null,
   "metadata": {
    "id": "KBcJtzb5Pg2j",
    "outputId": "afe04185-1f0a-4cb6-ad7d-ee1269c6758e"
   },
   "outputs": [
    {
     "name": "stdout",
     "output_type": "stream",
     "text": [
      "Feature: 0, Score: 0.21298\n",
      "Feature: 1, Score: 0.20987\n",
      "Feature: 2, Score: 0.12169\n",
      "Feature: 3, Score: 0.11463\n",
      "Feature: 4, Score: 0.06533\n",
      "Feature: 5, Score: 0.03366\n",
      "Feature: 6, Score: 0.02537\n",
      "Feature: 7, Score: 0.02059\n",
      "Feature: 8, Score: 0.01800\n",
      "Feature: 9, Score: 0.01666\n"
     ]
    }
   ],
   "source": [
    "# getting important features\n",
    "imp_features = loaded_model.feature_importances_\n",
    "# sorting them in descending order\n",
    "imp_features = sorted(imp_features, reverse=True)\n",
    "# taking top 10 most important features\n",
    "imp_features = imp_features[:10]\n",
    "\n",
    "# printing them\n",
    "for i, v in enumerate(imp_features):\n",
    "    print('Feature: %0d, Score: %.5f' % (i,v))"
   ]
  },
  {
   "cell_type": "code",
   "execution_count": null,
   "metadata": {
    "id": "q32gWpIHPg2r",
    "outputId": "a2f1c94d-6495-40f9-efb1-705eaeee0f0a"
   },
   "outputs": [
    {
     "data": {
      "text/plain": [
       "array([0.13148475, 0.1716275 , 0.08086735, ..., 0.11879872, 0.12211887,\n",
       "       0.09695482])"
      ]
     },
     "execution_count": 8,
     "metadata": {
      "tags": []
     },
     "output_type": "execute_result"
    }
   ],
   "source": [
    "# calculating probabilites for test set\n",
    "pred_test = loaded_model.predict_proba(test_data)\n",
    "# getting probabilities corresponding to class 1 only\n",
    "pred_test = pred_test[:,1]\n",
    "#printing them\n",
    "pred_test"
   ]
  },
  {
   "cell_type": "code",
   "execution_count": null,
   "metadata": {
    "id": "aNVYwDycPg21",
    "outputId": "527b50aa-4031-4bfe-d5cb-2abcdf8087b3"
   },
   "outputs": [
    {
     "data": {
      "text/html": [
       "<div>\n",
       "<style scoped>\n",
       "    .dataframe tbody tr th:only-of-type {\n",
       "        vertical-align: middle;\n",
       "    }\n",
       "\n",
       "    .dataframe tbody tr th {\n",
       "        vertical-align: top;\n",
       "    }\n",
       "\n",
       "    .dataframe thead th {\n",
       "        text-align: right;\n",
       "    }\n",
       "</style>\n",
       "<table border=\"1\" class=\"dataframe\">\n",
       "  <thead>\n",
       "    <tr style=\"text-align: right;\">\n",
       "      <th></th>\n",
       "      <th>msno</th>\n",
       "    </tr>\n",
       "  </thead>\n",
       "  <tbody>\n",
       "    <tr>\n",
       "      <th>0</th>\n",
       "      <td>4n+fXlyJvfQnTeKXTWT507Ll4JVYGrOC8LHCfwBmPE4=</td>\n",
       "    </tr>\n",
       "    <tr>\n",
       "      <th>1</th>\n",
       "      <td>aNmbC1GvFUxQyQUidCVmfbQ0YeCuwkPzEdQ0RwWyeZM=</td>\n",
       "    </tr>\n",
       "    <tr>\n",
       "      <th>2</th>\n",
       "      <td>rFC9eSG/tMuzpre6cwcMLZHEYM89xY02qcz7HL4//jc=</td>\n",
       "    </tr>\n",
       "    <tr>\n",
       "      <th>3</th>\n",
       "      <td>WZ59dLyrQcE7ft06MZ5dj40BnlYQY7PHgg/54+HaCSE=</td>\n",
       "    </tr>\n",
       "    <tr>\n",
       "      <th>4</th>\n",
       "      <td>aky/Iv8hMp1/V/yQHLtaVuEmmAxkB5GuasQZePJ7NU4=</td>\n",
       "    </tr>\n",
       "  </tbody>\n",
       "</table>\n",
       "</div>"
      ],
      "text/plain": [
       "                                           msno\n",
       "0  4n+fXlyJvfQnTeKXTWT507Ll4JVYGrOC8LHCfwBmPE4=\n",
       "1  aNmbC1GvFUxQyQUidCVmfbQ0YeCuwkPzEdQ0RwWyeZM=\n",
       "2  rFC9eSG/tMuzpre6cwcMLZHEYM89xY02qcz7HL4//jc=\n",
       "3  WZ59dLyrQcE7ft06MZ5dj40BnlYQY7PHgg/54+HaCSE=\n",
       "4  aky/Iv8hMp1/V/yQHLtaVuEmmAxkB5GuasQZePJ7NU4="
      ]
     },
     "execution_count": 9,
     "metadata": {
      "tags": []
     },
     "output_type": "execute_result"
    }
   ],
   "source": [
    "# loading sample submission file\n",
    "submit = pd.read_csv('../Data/sample_submission_v2.csv')\n",
    "# dropping default class labels\n",
    "submit = submit.drop('is_churn', axis=1, inplace=False)\n",
    "# getting head(top 5 rows)\n",
    "submit.head()"
   ]
  },
  {
   "cell_type": "code",
   "execution_count": null,
   "metadata": {
    "id": "gFFXlxtlPg27",
    "outputId": "3560c8f3-4fa2-4d09-bc4b-c6398e3399cd"
   },
   "outputs": [
    {
     "data": {
      "text/html": [
       "<div>\n",
       "<style scoped>\n",
       "    .dataframe tbody tr th:only-of-type {\n",
       "        vertical-align: middle;\n",
       "    }\n",
       "\n",
       "    .dataframe tbody tr th {\n",
       "        vertical-align: top;\n",
       "    }\n",
       "\n",
       "    .dataframe thead th {\n",
       "        text-align: right;\n",
       "    }\n",
       "</style>\n",
       "<table border=\"1\" class=\"dataframe\">\n",
       "  <thead>\n",
       "    <tr style=\"text-align: right;\">\n",
       "      <th></th>\n",
       "      <th>msno</th>\n",
       "      <th>is_churn</th>\n",
       "    </tr>\n",
       "  </thead>\n",
       "  <tbody>\n",
       "    <tr>\n",
       "      <th>0</th>\n",
       "      <td>4n+fXlyJvfQnTeKXTWT507Ll4JVYGrOC8LHCfwBmPE4=</td>\n",
       "      <td>0.078891</td>\n",
       "    </tr>\n",
       "    <tr>\n",
       "      <th>1</th>\n",
       "      <td>aNmbC1GvFUxQyQUidCVmfbQ0YeCuwkPzEdQ0RwWyeZM=</td>\n",
       "      <td>0.102977</td>\n",
       "    </tr>\n",
       "    <tr>\n",
       "      <th>2</th>\n",
       "      <td>rFC9eSG/tMuzpre6cwcMLZHEYM89xY02qcz7HL4//jc=</td>\n",
       "      <td>0.048520</td>\n",
       "    </tr>\n",
       "    <tr>\n",
       "      <th>3</th>\n",
       "      <td>WZ59dLyrQcE7ft06MZ5dj40BnlYQY7PHgg/54+HaCSE=</td>\n",
       "      <td>0.086388</td>\n",
       "    </tr>\n",
       "    <tr>\n",
       "      <th>4</th>\n",
       "      <td>aky/Iv8hMp1/V/yQHLtaVuEmmAxkB5GuasQZePJ7NU4=</td>\n",
       "      <td>0.083507</td>\n",
       "    </tr>\n",
       "  </tbody>\n",
       "</table>\n",
       "</div>"
      ],
      "text/plain": [
       "                                           msno  is_churn\n",
       "0  4n+fXlyJvfQnTeKXTWT507Ll4JVYGrOC8LHCfwBmPE4=  0.078891\n",
       "1  aNmbC1GvFUxQyQUidCVmfbQ0YeCuwkPzEdQ0RwWyeZM=  0.102977\n",
       "2  rFC9eSG/tMuzpre6cwcMLZHEYM89xY02qcz7HL4//jc=  0.048520\n",
       "3  WZ59dLyrQcE7ft06MZ5dj40BnlYQY7PHgg/54+HaCSE=  0.086388\n",
       "4  aky/Iv8hMp1/V/yQHLtaVuEmmAxkB5GuasQZePJ7NU4=  0.083507"
      ]
     },
     "execution_count": 10,
     "metadata": {
      "tags": []
     },
     "output_type": "execute_result"
    }
   ],
   "source": [
    "# multiplying test probabilities with 0.6\n",
    "submit['is_churn'] = pred_test * 0.6\n",
    "# getting head(top 5 rows)\n",
    "submit.head()"
   ]
  },
  {
   "cell_type": "code",
   "execution_count": null,
   "metadata": {
    "id": "N10_cpmWPg3G"
   },
   "outputs": [],
   "source": [
    "# saving best model to the disk\n",
    "submit.to_csv('submission_rfc075.csv', index=False)"
   ]
  },
  {
   "cell_type": "markdown",
   "metadata": {
    "id": "Ym6fEUliPg3N"
   },
   "source": [
    "**By using this Random Forest model, I got 0.15946 on public leaderboard as test log-loss, and 0.15910 on private leaderboard as test log-loss.**"
   ]
  },
  {
   "attachments": {
    "image.png": {
     "image/png": "[encoded data removed]"
    }
   },
   "cell_type": "markdown",
   "metadata": {},
   "source": [
    "![image.png](attachment:image.png)"
   ]
  },
  {
   "cell_type": "markdown",
   "metadata": {
    "id": "EvR3BBfiPg3O"
   },
   "source": [
    "## XGBoost"
   ]
  },
  {
   "cell_type": "code",
   "execution_count": null,
   "metadata": {
    "id": "0VMKCqolPg3P"
   },
   "outputs": [],
   "source": [
    "# creating DMatrix for train, cv, and test\n",
    "train = xgb.DMatrix(X_train, label=y_train, feature_names=cols, nthread=-1)\n",
    "cv = xgb.DMatrix(X_cv, label=y_cv, feature_names=cols, nthread=-1)\n",
    "test = xgb.DMatrix(test_data, feature_names=cols, nthread=-1)"
   ]
  },
  {
   "cell_type": "code",
   "execution_count": null,
   "metadata": {
    "id": "OheuARA7Pg3Z"
   },
   "outputs": [],
   "source": [
    "# setting parameters\n",
    "params = {'objective' : 'binary:logistic',\n",
    "          'eval_metric' : 'logloss'}"
   ]
  },
  {
   "cell_type": "code",
   "execution_count": null,
   "metadata": {
    "id": "-hRW7g8qPg3f",
    "outputId": "f9e06823-75da-467b-884d-2c29bd0c6d38"
   },
   "outputs": [
    {
     "name": "stdout",
     "output_type": "stream",
     "text": [
      "CPU times: user 58.7 s, sys: 372 ms, total: 59 s\n",
      "Wall time: 7.39 s\n"
     ]
    }
   ],
   "source": [
    "%%time\n",
    "\n",
    "# train the xgboost model\n",
    "xgb_model = xgb.train(params, train, 12, verbose_eval=True)"
   ]
  },
  {
   "cell_type": "code",
   "execution_count": null,
   "metadata": {
    "id": "EOLOkxzoPg3o"
   },
   "outputs": [],
   "source": [
    "# saving model\n",
    "xgb_model.save_model('finalized_model_xgb_train.sav')"
   ]
  },
  {
   "cell_type": "markdown",
   "metadata": {
    "id": "xfxB164gPg32"
   },
   "source": [
    "### Using best model "
   ]
  },
  {
   "cell_type": "code",
   "execution_count": null,
   "metadata": {
    "id": "C-7NE0rgPg34"
   },
   "outputs": [],
   "source": [
    "# loading model\n",
    "xgb_model = xgb.Booster(model_file='finalized_model_xgb_train.sav')"
   ]
  },
  {
   "cell_type": "code",
   "execution_count": null,
   "metadata": {
    "id": "hWUxpbPBPg4L",
    "outputId": "f1398f2d-1799-432b-ed97-aa4474719dbf"
   },
   "outputs": [
    {
     "data": {
      "text/plain": [
       "0.07607863581526318"
      ]
     },
     "execution_count": 7,
     "metadata": {
      "tags": []
     },
     "output_type": "execute_result"
    }
   ],
   "source": [
    "# predicting probabilities for train data\n",
    "pred_train = xgb_model.predict(train)\n",
    "# calculating log-loss\n",
    "log_loss(y_train, pred_train)"
   ]
  },
  {
   "cell_type": "code",
   "execution_count": null,
   "metadata": {
    "id": "0l1VaDNZPg4X",
    "outputId": "d8c035a8-158f-4115-bce0-dd7c864e5c63"
   },
   "outputs": [
    {
     "data": {
      "text/plain": [
       "0.07726354674937265"
      ]
     },
     "execution_count": 8,
     "metadata": {
      "tags": []
     },
     "output_type": "execute_result"
    }
   ],
   "source": [
    "# predicting probabilities for cv data\n",
    "pred_cv = xgb_model.predict(cv)\n",
    "# calculating log-loss\n",
    "log_loss(y_cv, pred_cv)"
   ]
  },
  {
   "cell_type": "code",
   "execution_count": null,
   "metadata": {
    "id": "QQJfWGNxPg4f",
    "outputId": "521f2fe6-6574-4f92-cf68-27570fa61309"
   },
   "outputs": [
    {
     "data": {
      "text/plain": [
       "Text(0.5, 1.0, 'Feature importance for xgboost model')"
      ]
     },
     "execution_count": 9,
     "metadata": {
      "tags": []
     },
     "output_type": "execute_result"
    },
    {
     "data": {
      "image/png": "[encoded data removed]",
      "text/plain": [
       "<Figure size 432x288 with 1 Axes>"
      ]
     },
     "metadata": {
      "needs_background": "light",
      "tags": []
     },
     "output_type": "display_data"
    }
   ],
   "source": [
    "# plotting important features\n",
    "xgb.plot_importance(xgb_model, max_num_features=20, height=1)\n",
    "plt.title('Feature importance for xgboost model')"
   ]
  },
  {
   "cell_type": "code",
   "execution_count": null,
   "metadata": {
    "id": "BJDuY-dMPg4p",
    "outputId": "08d9c97a-7c52-47fe-edae-bd7b5cf73e76",
    "scrolled": true
   },
   "outputs": [
    {
     "data": {
      "text/plain": [
       "array([0.01339018, 0.02584306, 0.01339018, ..., 0.01339018, 0.01772232,\n",
       "       0.01339018], dtype=float32)"
      ]
     },
     "execution_count": 10,
     "metadata": {
      "tags": []
     },
     "output_type": "execute_result"
    }
   ],
   "source": [
    "# predicting probabilities for test data\n",
    "pred_test = xgb_model.predict(test)\n",
    "# predicted prbabilities for test data\n",
    "pred_test"
   ]
  },
  {
   "cell_type": "code",
   "execution_count": null,
   "metadata": {
    "id": "jenZOkqFPg4z",
    "outputId": "45d05490-16f1-4c78-9234-7bcd70573227"
   },
   "outputs": [
    {
     "data": {
      "text/html": [
       "<div>\n",
       "<style scoped>\n",
       "    .dataframe tbody tr th:only-of-type {\n",
       "        vertical-align: middle;\n",
       "    }\n",
       "\n",
       "    .dataframe tbody tr th {\n",
       "        vertical-align: top;\n",
       "    }\n",
       "\n",
       "    .dataframe thead th {\n",
       "        text-align: right;\n",
       "    }\n",
       "</style>\n",
       "<table border=\"1\" class=\"dataframe\">\n",
       "  <thead>\n",
       "    <tr style=\"text-align: right;\">\n",
       "      <th></th>\n",
       "      <th>msno</th>\n",
       "    </tr>\n",
       "  </thead>\n",
       "  <tbody>\n",
       "    <tr>\n",
       "      <th>0</th>\n",
       "      <td>4n+fXlyJvfQnTeKXTWT507Ll4JVYGrOC8LHCfwBmPE4=</td>\n",
       "    </tr>\n",
       "    <tr>\n",
       "      <th>1</th>\n",
       "      <td>aNmbC1GvFUxQyQUidCVmfbQ0YeCuwkPzEdQ0RwWyeZM=</td>\n",
       "    </tr>\n",
       "    <tr>\n",
       "      <th>2</th>\n",
       "      <td>rFC9eSG/tMuzpre6cwcMLZHEYM89xY02qcz7HL4//jc=</td>\n",
       "    </tr>\n",
       "    <tr>\n",
       "      <th>3</th>\n",
       "      <td>WZ59dLyrQcE7ft06MZ5dj40BnlYQY7PHgg/54+HaCSE=</td>\n",
       "    </tr>\n",
       "    <tr>\n",
       "      <th>4</th>\n",
       "      <td>aky/Iv8hMp1/V/yQHLtaVuEmmAxkB5GuasQZePJ7NU4=</td>\n",
       "    </tr>\n",
       "  </tbody>\n",
       "</table>\n",
       "</div>"
      ],
      "text/plain": [
       "                                           msno\n",
       "0  4n+fXlyJvfQnTeKXTWT507Ll4JVYGrOC8LHCfwBmPE4=\n",
       "1  aNmbC1GvFUxQyQUidCVmfbQ0YeCuwkPzEdQ0RwWyeZM=\n",
       "2  rFC9eSG/tMuzpre6cwcMLZHEYM89xY02qcz7HL4//jc=\n",
       "3  WZ59dLyrQcE7ft06MZ5dj40BnlYQY7PHgg/54+HaCSE=\n",
       "4  aky/Iv8hMp1/V/yQHLtaVuEmmAxkB5GuasQZePJ7NU4="
      ]
     },
     "execution_count": 11,
     "metadata": {
      "tags": []
     },
     "output_type": "execute_result"
    }
   ],
   "source": [
    "# loading sample submission file\n",
    "submit = pd.read_csv('../Data/sample_submission_v2.csv')\n",
    "# dropping 'is_churn' feature\n",
    "submit = submit.drop('is_churn', axis=1, inplace=False)\n",
    "# getting head\n",
    "submit.head()"
   ]
  },
  {
   "cell_type": "code",
   "execution_count": null,
   "metadata": {
    "id": "zc5A2SfwPg45",
    "outputId": "b10f4563-0ec8-4a85-d744-45005f267071"
   },
   "outputs": [
    {
     "data": {
      "text/html": [
       "<div>\n",
       "<style scoped>\n",
       "    .dataframe tbody tr th:only-of-type {\n",
       "        vertical-align: middle;\n",
       "    }\n",
       "\n",
       "    .dataframe tbody tr th {\n",
       "        vertical-align: top;\n",
       "    }\n",
       "\n",
       "    .dataframe thead th {\n",
       "        text-align: right;\n",
       "    }\n",
       "</style>\n",
       "<table border=\"1\" class=\"dataframe\">\n",
       "  <thead>\n",
       "    <tr style=\"text-align: right;\">\n",
       "      <th></th>\n",
       "      <th>msno</th>\n",
       "      <th>is_churn</th>\n",
       "    </tr>\n",
       "  </thead>\n",
       "  <tbody>\n",
       "    <tr>\n",
       "      <th>0</th>\n",
       "      <td>4n+fXlyJvfQnTeKXTWT507Ll4JVYGrOC8LHCfwBmPE4=</td>\n",
       "      <td>0.008034</td>\n",
       "    </tr>\n",
       "    <tr>\n",
       "      <th>1</th>\n",
       "      <td>aNmbC1GvFUxQyQUidCVmfbQ0YeCuwkPzEdQ0RwWyeZM=</td>\n",
       "      <td>0.015506</td>\n",
       "    </tr>\n",
       "    <tr>\n",
       "      <th>2</th>\n",
       "      <td>rFC9eSG/tMuzpre6cwcMLZHEYM89xY02qcz7HL4//jc=</td>\n",
       "      <td>0.008034</td>\n",
       "    </tr>\n",
       "    <tr>\n",
       "      <th>3</th>\n",
       "      <td>WZ59dLyrQcE7ft06MZ5dj40BnlYQY7PHgg/54+HaCSE=</td>\n",
       "      <td>0.008034</td>\n",
       "    </tr>\n",
       "    <tr>\n",
       "      <th>4</th>\n",
       "      <td>aky/Iv8hMp1/V/yQHLtaVuEmmAxkB5GuasQZePJ7NU4=</td>\n",
       "      <td>0.010633</td>\n",
       "    </tr>\n",
       "  </tbody>\n",
       "</table>\n",
       "</div>"
      ],
      "text/plain": [
       "                                           msno  is_churn\n",
       "0  4n+fXlyJvfQnTeKXTWT507Ll4JVYGrOC8LHCfwBmPE4=  0.008034\n",
       "1  aNmbC1GvFUxQyQUidCVmfbQ0YeCuwkPzEdQ0RwWyeZM=  0.015506\n",
       "2  rFC9eSG/tMuzpre6cwcMLZHEYM89xY02qcz7HL4//jc=  0.008034\n",
       "3  WZ59dLyrQcE7ft06MZ5dj40BnlYQY7PHgg/54+HaCSE=  0.008034\n",
       "4  aky/Iv8hMp1/V/yQHLtaVuEmmAxkB5GuasQZePJ7NU4=  0.010633"
      ]
     },
     "execution_count": 12,
     "metadata": {
      "tags": []
     },
     "output_type": "execute_result"
    }
   ],
   "source": [
    "# multiplying 0.6 with probabilities\n",
    "submit['is_churn'] = pred_test * 0.6\n",
    "# getting head(top 5 rows)\n",
    "submit.head()"
   ]
  },
  {
   "cell_type": "code",
   "execution_count": null,
   "metadata": {
    "id": "Kz6qdqQlPg5B"
   },
   "outputs": [],
   "source": [
    "# csv saving\n",
    "submit.to_csv('submission_xgb_train.csv', index=False)"
   ]
  },
  {
   "cell_type": "markdown",
   "metadata": {
    "id": "R9Rvwe4sPg5G"
   },
   "source": [
    "**By using this xgboost train model I got 0.12702 on public leaderboard as test log-loss and 0.12603 on private leaderboard as test log-loss.**"
   ]
  },
  {
   "attachments": {
    "image.png": {
     "image/png": "[encoded data removed]"
    }
   },
   "cell_type": "markdown",
   "metadata": {},
   "source": [
    "![image.png](attachment:image.png)"
   ]
  },
  {
   "cell_type": "markdown",
   "metadata": {
    "id": "Lh75pgrbPg5H"
   },
   "source": [
    "## LigntGBM"
   ]
  },
  {
   "cell_type": "code",
   "execution_count": null,
   "metadata": {
    "id": "fJHXWdASPg5J"
   },
   "outputs": [],
   "source": [
    "# setting parameters\n",
    "param = {'objective' : 'binary', \n",
    "         'metric' : 'binary-logloss',\n",
    "         'num_leaves' : 31,\n",
    "         'boosting' : 'dart'}\n",
    "\n",
    "# creating Dataset for train and cross validation data\n",
    "train = lgb.Dataset(X_train, label=y_train, feature_name=cols)\n",
    "cv = lgb.Dataset(X_cv, label=y_cv, feature_name=cols)"
   ]
  },
  {
   "cell_type": "code",
   "execution_count": null,
   "metadata": {
    "id": "YPpOPlFmPg5P",
    "outputId": "ad77098c-33fd-48b6-83a2-b588c01bc434"
   },
   "outputs": [
    {
     "name": "stdout",
     "output_type": "stream",
     "text": [
      "[LightGBM] [Info] Number of positive: 69880, number of negative: 706888\n",
      "[LightGBM] [Warning] Auto-choosing row-wise multi-threading, the overhead of testing was 0.043239 seconds.\n",
      "You can set `force_row_wise=true` to remove the overhead.\n",
      "And if memory is not enough, you can set `force_col_wise=true`.\n",
      "[LightGBM] [Info] Total Bins 8161\n",
      "[LightGBM] [Info] Number of data points in the train set: 776768, number of used features: 57\n",
      "[LightGBM] [Info] [binary:BoostFromScore]: pavg=0.089963 -> initscore=-2.314093\n",
      "[LightGBM] [Info] Start training from score -2.314093\n",
      "CPU times: user 16 s, sys: 328 ms, total: 16.3 s\n",
      "Wall time: 2.35 s\n"
     ]
    }
   ],
   "source": [
    "%%time\n",
    "\n",
    "# train lgb model\n",
    "lgb_model = lgb.train(param, train, num_boost_round=20, valid_sets=cv)"
   ]
  },
  {
   "cell_type": "code",
   "execution_count": null,
   "metadata": {
    "id": "VE8v0KxoPg5i",
    "outputId": "1c480b5c-0d7a-444a-e82e-bfe8a183d768"
   },
   "outputs": [
    {
     "data": {
      "text/plain": [
       "<lightgbm.basic.Booster at 0x7fdab0981490>"
      ]
     },
     "execution_count": 7,
     "metadata": {
      "tags": []
     },
     "output_type": "execute_result"
    }
   ],
   "source": [
    "# saving best model\n",
    "lgb_model.save_model('finalized_model_lgb_train_2.sav')"
   ]
  },
  {
   "cell_type": "markdown",
   "metadata": {
    "id": "gT98wATOPg5o"
   },
   "source": [
    "### Using best model"
   ]
  },
  {
   "cell_type": "code",
   "execution_count": null,
   "metadata": {
    "id": "C4mXasqlPg5p"
   },
   "outputs": [],
   "source": [
    "# loading saved model\n",
    "lgb_model = lgb.Booster(model_file='finalized_model_lgb_train_2.sav')"
   ]
  },
  {
   "cell_type": "code",
   "execution_count": null,
   "metadata": {
    "id": "3JT1_xoyPg56",
    "outputId": "9a60dd9c-a88c-4289-8962-fc250e8aaa17"
   },
   "outputs": [
    {
     "name": "stdout",
     "output_type": "stream",
     "text": [
      "0.08405046474697057\n"
     ]
    }
   ],
   "source": [
    "# predicting probabilities for train data\n",
    "y_pred = lgb_model.predict(X_train)\n",
    "# calculating log-loss for train data\n",
    "print(log_loss(y_train, y_pred ))"
   ]
  },
  {
   "cell_type": "code",
   "execution_count": null,
   "metadata": {
    "id": "G-7A9YtkPg6D",
    "outputId": "d52718bd-b08e-4351-f34b-c2634c1b355d"
   },
   "outputs": [
    {
     "name": "stdout",
     "output_type": "stream",
     "text": [
      "0.08433756840455721\n"
     ]
    }
   ],
   "source": [
    "# predicting probabilities for cv data\n",
    "y_pred_cv = lgb_model.predict(X_cv)\n",
    "# calculating log-loss for cv data\n",
    "print(log_loss(y_cv, y_pred_cv))"
   ]
  },
  {
   "cell_type": "code",
   "execution_count": null,
   "metadata": {
    "id": "XaozB5FiPg6R",
    "outputId": "b9d6413c-b125-4cc1-b556-84368c3275e6"
   },
   "outputs": [
    {
     "data": {
      "text/plain": [
       "array([0.01719102, 0.01942716, 0.01719102, ..., 0.01719102, 0.01942716,\n",
       "       0.01719102])"
      ]
     },
     "execution_count": 8,
     "metadata": {
      "tags": []
     },
     "output_type": "execute_result"
    }
   ],
   "source": [
    "# predicting probabilities for test data\n",
    "y_pred_test = lgb_model.predict(test_data)\n",
    "# probabilities for test data\n",
    "y_pred_test"
   ]
  },
  {
   "cell_type": "code",
   "execution_count": null,
   "metadata": {
    "id": "dKue6AWPPg6Z",
    "outputId": "b4d1809a-2761-4c42-fe99-2b2a106cfc39"
   },
   "outputs": [
    {
     "data": {
      "text/plain": [
       "<matplotlib.axes._subplots.AxesSubplot at 0x7f0d467c7050>"
      ]
     },
     "execution_count": 9,
     "metadata": {
      "tags": []
     },
     "output_type": "execute_result"
    },
    {
     "data": {
      "image/png": "[encoded data removed]",
      "text/plain": [
       "<Figure size 432x288 with 1 Axes>"
      ]
     },
     "metadata": {
      "needs_background": "light",
      "tags": []
     },
     "output_type": "display_data"
    }
   ],
   "source": [
    "# plotting important features\n",
    "lgb.plot_importance(lgb_model,max_num_features=20,height=1)"
   ]
  },
  {
   "cell_type": "code",
   "execution_count": null,
   "metadata": {
    "id": "TAtgJAVPPg6g",
    "outputId": "d9de79fc-5515-4da3-d24a-0a7f10971db3"
   },
   "outputs": [
    {
     "data": {
      "text/html": [
       "<div>\n",
       "<style scoped>\n",
       "    .dataframe tbody tr th:only-of-type {\n",
       "        vertical-align: middle;\n",
       "    }\n",
       "\n",
       "    .dataframe tbody tr th {\n",
       "        vertical-align: top;\n",
       "    }\n",
       "\n",
       "    .dataframe thead th {\n",
       "        text-align: right;\n",
       "    }\n",
       "</style>\n",
       "<table border=\"1\" class=\"dataframe\">\n",
       "  <thead>\n",
       "    <tr style=\"text-align: right;\">\n",
       "      <th></th>\n",
       "      <th>msno</th>\n",
       "    </tr>\n",
       "  </thead>\n",
       "  <tbody>\n",
       "    <tr>\n",
       "      <th>0</th>\n",
       "      <td>4n+fXlyJvfQnTeKXTWT507Ll4JVYGrOC8LHCfwBmPE4=</td>\n",
       "    </tr>\n",
       "    <tr>\n",
       "      <th>1</th>\n",
       "      <td>aNmbC1GvFUxQyQUidCVmfbQ0YeCuwkPzEdQ0RwWyeZM=</td>\n",
       "    </tr>\n",
       "    <tr>\n",
       "      <th>2</th>\n",
       "      <td>rFC9eSG/tMuzpre6cwcMLZHEYM89xY02qcz7HL4//jc=</td>\n",
       "    </tr>\n",
       "    <tr>\n",
       "      <th>3</th>\n",
       "      <td>WZ59dLyrQcE7ft06MZ5dj40BnlYQY7PHgg/54+HaCSE=</td>\n",
       "    </tr>\n",
       "    <tr>\n",
       "      <th>4</th>\n",
       "      <td>aky/Iv8hMp1/V/yQHLtaVuEmmAxkB5GuasQZePJ7NU4=</td>\n",
       "    </tr>\n",
       "  </tbody>\n",
       "</table>\n",
       "</div>"
      ],
      "text/plain": [
       "                                           msno\n",
       "0  4n+fXlyJvfQnTeKXTWT507Ll4JVYGrOC8LHCfwBmPE4=\n",
       "1  aNmbC1GvFUxQyQUidCVmfbQ0YeCuwkPzEdQ0RwWyeZM=\n",
       "2  rFC9eSG/tMuzpre6cwcMLZHEYM89xY02qcz7HL4//jc=\n",
       "3  WZ59dLyrQcE7ft06MZ5dj40BnlYQY7PHgg/54+HaCSE=\n",
       "4  aky/Iv8hMp1/V/yQHLtaVuEmmAxkB5GuasQZePJ7NU4="
      ]
     },
     "execution_count": 10,
     "metadata": {
      "tags": []
     },
     "output_type": "execute_result"
    }
   ],
   "source": [
    "# loading sample submission file\n",
    "submit = pd.read_csv('../Data/sample_submission_v2.csv')\n",
    "# dropping 'is_churn' feature\n",
    "submit = submit.drop('is_churn', axis=1, inplace=False)\n",
    "# getting head(top 5 rows)\n",
    "submit.head()"
   ]
  },
  {
   "cell_type": "code",
   "execution_count": null,
   "metadata": {
    "id": "mSbG5AIGPg6l",
    "outputId": "771066c6-63e8-4058-ff25-a122dab552cf"
   },
   "outputs": [
    {
     "data": {
      "text/html": [
       "<div>\n",
       "<style scoped>\n",
       "    .dataframe tbody tr th:only-of-type {\n",
       "        vertical-align: middle;\n",
       "    }\n",
       "\n",
       "    .dataframe tbody tr th {\n",
       "        vertical-align: top;\n",
       "    }\n",
       "\n",
       "    .dataframe thead th {\n",
       "        text-align: right;\n",
       "    }\n",
       "</style>\n",
       "<table border=\"1\" class=\"dataframe\">\n",
       "  <thead>\n",
       "    <tr style=\"text-align: right;\">\n",
       "      <th></th>\n",
       "      <th>msno</th>\n",
       "      <th>is_churn</th>\n",
       "    </tr>\n",
       "  </thead>\n",
       "  <tbody>\n",
       "    <tr>\n",
       "      <th>0</th>\n",
       "      <td>4n+fXlyJvfQnTeKXTWT507Ll4JVYGrOC8LHCfwBmPE4=</td>\n",
       "      <td>0.010315</td>\n",
       "    </tr>\n",
       "    <tr>\n",
       "      <th>1</th>\n",
       "      <td>aNmbC1GvFUxQyQUidCVmfbQ0YeCuwkPzEdQ0RwWyeZM=</td>\n",
       "      <td>0.011656</td>\n",
       "    </tr>\n",
       "    <tr>\n",
       "      <th>2</th>\n",
       "      <td>rFC9eSG/tMuzpre6cwcMLZHEYM89xY02qcz7HL4//jc=</td>\n",
       "      <td>0.010315</td>\n",
       "    </tr>\n",
       "    <tr>\n",
       "      <th>3</th>\n",
       "      <td>WZ59dLyrQcE7ft06MZ5dj40BnlYQY7PHgg/54+HaCSE=</td>\n",
       "      <td>0.010315</td>\n",
       "    </tr>\n",
       "    <tr>\n",
       "      <th>4</th>\n",
       "      <td>aky/Iv8hMp1/V/yQHLtaVuEmmAxkB5GuasQZePJ7NU4=</td>\n",
       "      <td>0.011612</td>\n",
       "    </tr>\n",
       "  </tbody>\n",
       "</table>\n",
       "</div>"
      ],
      "text/plain": [
       "                                           msno  is_churn\n",
       "0  4n+fXlyJvfQnTeKXTWT507Ll4JVYGrOC8LHCfwBmPE4=  0.010315\n",
       "1  aNmbC1GvFUxQyQUidCVmfbQ0YeCuwkPzEdQ0RwWyeZM=  0.011656\n",
       "2  rFC9eSG/tMuzpre6cwcMLZHEYM89xY02qcz7HL4//jc=  0.010315\n",
       "3  WZ59dLyrQcE7ft06MZ5dj40BnlYQY7PHgg/54+HaCSE=  0.010315\n",
       "4  aky/Iv8hMp1/V/yQHLtaVuEmmAxkB5GuasQZePJ7NU4=  0.011612"
      ]
     },
     "execution_count": 11,
     "metadata": {
      "tags": []
     },
     "output_type": "execute_result"
    }
   ],
   "source": [
    "# multiplying probabilities with 0.6\n",
    "submit['is_churn'] = y_pred_test * 0.60\n",
    "# getting head(top 5 rows)\n",
    "submit.head()"
   ]
  },
  {
   "cell_type": "code",
   "execution_count": null,
   "metadata": {
    "id": "1ZnTuor4Pg6r"
   },
   "outputs": [],
   "source": [
    "# csv saving\n",
    "submit.to_csv('submission_lgb_train.csv', index=False)"
   ]
  },
  {
   "cell_type": "markdown",
   "metadata": {
    "id": "IILA_dKIPg6z"
   },
   "source": [
    "**By using this lightGBM model I got 0.12697 on public leaderboard as test log-loss, and 0.12600 on private leaderboard as test log-loss.**"
   ]
  },
  {
   "attachments": {
    "image.png": {
     "image/png": "[encoded data removed]"
    }
   },
   "cell_type": "markdown",
   "metadata": {},
   "source": [
    "![image.png](attachment:image.png)"
   ]
  },
  {
   "cell_type": "markdown",
   "metadata": {
    "id": "AAFRda-WPg60"
   },
   "source": [
    "## CatBoost"
   ]
  },
  {
   "cell_type": "code",
   "execution_count": null,
   "metadata": {
    "id": "1cHf11H-Pg61"
   },
   "outputs": [],
   "source": [
    "# creating Pool for train, test and cv\n",
    "train = cb.Pool(X_train, label=y_train, feature_names=cols, thread_count=-1)\n",
    "cv = cb.Pool(X_cv, label=y_cv, feature_names=cols, thread_count=-1)\n",
    "test = cb.Pool(test_data, feature_names=cols, thread_count=-1)"
   ]
  },
  {
   "cell_type": "code",
   "execution_count": null,
   "metadata": {
    "id": "DiggnzOBPg65",
    "outputId": "aae2d8c2-bc27-43b5-c4db-aac68bb3fc58"
   },
   "outputs": [
    {
     "name": "stdout",
     "output_type": "stream",
     "text": [
      "Learning rate set to 0.5\n",
      "0:\tlearn: 0.1957306\ttest: 0.1960365\tbest: 0.1960365 (0)\ttotal: 141ms\tremaining: 283ms\n",
      "1:\tlearn: 0.1175089\ttest: 0.1181246\tbest: 0.1181246 (1)\ttotal: 220ms\tremaining: 110ms\n",
      "2:\tlearn: 0.1019970\ttest: 0.1025521\tbest: 0.1025521 (2)\ttotal: 292ms\tremaining: 0us\n",
      "\n",
      "bestTest = 0.1025521466\n",
      "bestIteration = 2\n",
      "\n"
     ]
    }
   ],
   "source": [
    "# setting parameters\n",
    "params = {'loss_function' : 'Logloss',\n",
    "          'eval_metric' : 'Logloss'}\n",
    "\n",
    "# train the catboost model\n",
    "cbc_model = cb.train(train, params, num_boost_round=3, verbose=True, eval_set=cv)"
   ]
  },
  {
   "cell_type": "code",
   "execution_count": null,
   "metadata": {
    "id": "Jkm5lM03Pg7B",
    "outputId": "6ad7a173-72ff-4095-bdab-95772531bdfb"
   },
   "outputs": [
    {
     "data": {
      "text/plain": [
       "['finalized_model_cbc_train.sav']"
      ]
     },
     "execution_count": 7,
     "metadata": {
      "tags": []
     },
     "output_type": "execute_result"
    }
   ],
   "source": [
    "# https://machinelearningmastery.com/save-load-machine-learning-models-python-scikit-learn/#:~:text=Saving%20Your%20Model-,Save%20Your%20Model%20with%20pickle,it%20to%20make%20new%20predictions.\n",
    "filename = 'finalized_model_cbc_train.sav'\n",
    "joblib.dump(cbc_model, filename)"
   ]
  },
  {
   "cell_type": "markdown",
   "metadata": {
    "id": "88Jno1fLPg7G"
   },
   "source": [
    "### Using best model"
   ]
  },
  {
   "cell_type": "code",
   "execution_count": null,
   "metadata": {
    "id": "HSErSmEEPg7I"
   },
   "outputs": [],
   "source": [
    "# loading the best random forst classifier model from disk\n",
    "filename = 'finalized_model_cbc_train.sav'\n",
    "loaded_model = joblib.load(filename)"
   ]
  },
  {
   "cell_type": "code",
   "execution_count": null,
   "metadata": {
    "id": "c-TcYzkoPg7M",
    "outputId": "f1bd2b44-667c-4063-e678-669c6fe43515"
   },
   "outputs": [
    {
     "data": {
      "text/plain": [
       "0.10199699583768657"
      ]
     },
     "execution_count": 9,
     "metadata": {
      "tags": []
     },
     "output_type": "execute_result"
    }
   ],
   "source": [
    "# predicting probabilities for train data\n",
    "pred_train = loaded_model.predict(train, prediction_type='Probability')\n",
    "# getting probabilities belong to class 1 only\n",
    "pred_train = pred_train[:,1]\n",
    "# calculating log-loss\n",
    "log_loss(y_train, pred_train)"
   ]
  },
  {
   "cell_type": "code",
   "execution_count": null,
   "metadata": {
    "id": "UdvSDXzHPg7T",
    "outputId": "0969dad3-9112-4477-cece-f04e2e702b14"
   },
   "outputs": [
    {
     "data": {
      "text/plain": [
       "0.10255214658116538"
      ]
     },
     "execution_count": 10,
     "metadata": {
      "tags": []
     },
     "output_type": "execute_result"
    }
   ],
   "source": [
    "# predicting probabilities for cv data\n",
    "pred_cv = loaded_model.predict(cv, prediction_type='Probability')\n",
    "# getting probabilities belong to class 1 only\n",
    "pred_cv = pred_cv[:,1]\n",
    "# calculating log-loss\n",
    "log_loss(y_cv, pred_cv)"
   ]
  },
  {
   "cell_type": "code",
   "execution_count": null,
   "metadata": {
    "id": "xhTUtlDwPg7Y",
    "outputId": "22bfe7d0-8c32-4c47-e224-49cb0afeb447"
   },
   "outputs": [
    {
     "data": {
      "text/plain": [
       "array([0.01213378, 0.03909202, 0.01413892, ..., 0.01215849, 0.03165161,\n",
       "       0.01413892])"
      ]
     },
     "execution_count": 11,
     "metadata": {
      "tags": []
     },
     "output_type": "execute_result"
    }
   ],
   "source": [
    "# predicting probabilities for test data\n",
    "pred_test = loaded_model.predict(test_data, prediction_type='Probability')\n",
    "# getting probabilities belong to class 1 only\n",
    "pred_test = pred_test[:,1]\n",
    "# probabilities for test data\n",
    "pred_test"
   ]
  },
  {
   "cell_type": "code",
   "execution_count": null,
   "metadata": {
    "id": "KzxnhCNxPg7d",
    "outputId": "64764686-299f-4e43-b817-781ca02572d2",
    "scrolled": true
   },
   "outputs": [
    {
     "data": {
      "text/html": [
       "<div>\n",
       "<style scoped>\n",
       "    .dataframe tbody tr th:only-of-type {\n",
       "        vertical-align: middle;\n",
       "    }\n",
       "\n",
       "    .dataframe tbody tr th {\n",
       "        vertical-align: top;\n",
       "    }\n",
       "\n",
       "    .dataframe thead th {\n",
       "        text-align: right;\n",
       "    }\n",
       "</style>\n",
       "<table border=\"1\" class=\"dataframe\">\n",
       "  <thead>\n",
       "    <tr style=\"text-align: right;\">\n",
       "      <th></th>\n",
       "      <th>msno</th>\n",
       "    </tr>\n",
       "  </thead>\n",
       "  <tbody>\n",
       "    <tr>\n",
       "      <th>0</th>\n",
       "      <td>4n+fXlyJvfQnTeKXTWT507Ll4JVYGrOC8LHCfwBmPE4=</td>\n",
       "    </tr>\n",
       "    <tr>\n",
       "      <th>1</th>\n",
       "      <td>aNmbC1GvFUxQyQUidCVmfbQ0YeCuwkPzEdQ0RwWyeZM=</td>\n",
       "    </tr>\n",
       "    <tr>\n",
       "      <th>2</th>\n",
       "      <td>rFC9eSG/tMuzpre6cwcMLZHEYM89xY02qcz7HL4//jc=</td>\n",
       "    </tr>\n",
       "    <tr>\n",
       "      <th>3</th>\n",
       "      <td>WZ59dLyrQcE7ft06MZ5dj40BnlYQY7PHgg/54+HaCSE=</td>\n",
       "    </tr>\n",
       "    <tr>\n",
       "      <th>4</th>\n",
       "      <td>aky/Iv8hMp1/V/yQHLtaVuEmmAxkB5GuasQZePJ7NU4=</td>\n",
       "    </tr>\n",
       "  </tbody>\n",
       "</table>\n",
       "</div>"
      ],
      "text/plain": [
       "                                           msno\n",
       "0  4n+fXlyJvfQnTeKXTWT507Ll4JVYGrOC8LHCfwBmPE4=\n",
       "1  aNmbC1GvFUxQyQUidCVmfbQ0YeCuwkPzEdQ0RwWyeZM=\n",
       "2  rFC9eSG/tMuzpre6cwcMLZHEYM89xY02qcz7HL4//jc=\n",
       "3  WZ59dLyrQcE7ft06MZ5dj40BnlYQY7PHgg/54+HaCSE=\n",
       "4  aky/Iv8hMp1/V/yQHLtaVuEmmAxkB5GuasQZePJ7NU4="
      ]
     },
     "execution_count": 12,
     "metadata": {
      "tags": []
     },
     "output_type": "execute_result"
    }
   ],
   "source": [
    "# loading sample submission file\n",
    "submit = pd.read_csv('../Data/sample_submission_v2.csv')\n",
    "# dropping 'is_churn' feature from the dataset\n",
    "submit = submit.drop('is_churn', axis=1, inplace=False)\n",
    "# getting head(top 5) rows\n",
    "submit.head()"
   ]
  },
  {
   "cell_type": "code",
   "execution_count": null,
   "metadata": {
    "id": "qB_YUCQ4Pg7i",
    "outputId": "66d554b5-d7e2-4c62-d9f9-32df4eb7f692"
   },
   "outputs": [
    {
     "data": {
      "text/html": [
       "<div>\n",
       "<style scoped>\n",
       "    .dataframe tbody tr th:only-of-type {\n",
       "        vertical-align: middle;\n",
       "    }\n",
       "\n",
       "    .dataframe tbody tr th {\n",
       "        vertical-align: top;\n",
       "    }\n",
       "\n",
       "    .dataframe thead th {\n",
       "        text-align: right;\n",
       "    }\n",
       "</style>\n",
       "<table border=\"1\" class=\"dataframe\">\n",
       "  <thead>\n",
       "    <tr style=\"text-align: right;\">\n",
       "      <th></th>\n",
       "      <th>msno</th>\n",
       "      <th>is_churn</th>\n",
       "    </tr>\n",
       "  </thead>\n",
       "  <tbody>\n",
       "    <tr>\n",
       "      <th>0</th>\n",
       "      <td>4n+fXlyJvfQnTeKXTWT507Ll4JVYGrOC8LHCfwBmPE4=</td>\n",
       "      <td>0.007280</td>\n",
       "    </tr>\n",
       "    <tr>\n",
       "      <th>1</th>\n",
       "      <td>aNmbC1GvFUxQyQUidCVmfbQ0YeCuwkPzEdQ0RwWyeZM=</td>\n",
       "      <td>0.023455</td>\n",
       "    </tr>\n",
       "    <tr>\n",
       "      <th>2</th>\n",
       "      <td>rFC9eSG/tMuzpre6cwcMLZHEYM89xY02qcz7HL4//jc=</td>\n",
       "      <td>0.008483</td>\n",
       "    </tr>\n",
       "    <tr>\n",
       "      <th>3</th>\n",
       "      <td>WZ59dLyrQcE7ft06MZ5dj40BnlYQY7PHgg/54+HaCSE=</td>\n",
       "      <td>0.007280</td>\n",
       "    </tr>\n",
       "    <tr>\n",
       "      <th>4</th>\n",
       "      <td>aky/Iv8hMp1/V/yQHLtaVuEmmAxkB5GuasQZePJ7NU4=</td>\n",
       "      <td>0.013275</td>\n",
       "    </tr>\n",
       "  </tbody>\n",
       "</table>\n",
       "</div>"
      ],
      "text/plain": [
       "                                           msno  is_churn\n",
       "0  4n+fXlyJvfQnTeKXTWT507Ll4JVYGrOC8LHCfwBmPE4=  0.007280\n",
       "1  aNmbC1GvFUxQyQUidCVmfbQ0YeCuwkPzEdQ0RwWyeZM=  0.023455\n",
       "2  rFC9eSG/tMuzpre6cwcMLZHEYM89xY02qcz7HL4//jc=  0.008483\n",
       "3  WZ59dLyrQcE7ft06MZ5dj40BnlYQY7PHgg/54+HaCSE=  0.007280\n",
       "4  aky/Iv8hMp1/V/yQHLtaVuEmmAxkB5GuasQZePJ7NU4=  0.013275"
      ]
     },
     "execution_count": 13,
     "metadata": {
      "tags": []
     },
     "output_type": "execute_result"
    }
   ],
   "source": [
    "# multiplying probabilities with 0.6\n",
    "submit['is_churn'] = pred_test * 0.6\n",
    "# getting head(top 5 rows)\n",
    "submit.head()"
   ]
  },
  {
   "cell_type": "code",
   "execution_count": null,
   "metadata": {
    "id": "7bIqp-pNPg7n"
   },
   "outputs": [],
   "source": [
    "# saving csv\n",
    "submit.to_csv('submission_cbc_train.csv', index=False)"
   ]
  },
  {
   "cell_type": "markdown",
   "metadata": {
    "id": "h9qmaIHePg7y"
   },
   "source": [
    "**By using this model I got 0.13111 on public leaderboard as test log-loss, and 0.13013 on private leaderboard as test log-loss.**"
   ]
  },
  {
   "attachments": {
    "image.png": {
     "image/png": "[encoded data removed]"
    }
   },
   "cell_type": "markdown",
   "metadata": {},
   "source": [
    "![image.png](attachment:image.png)"
   ]
  },
  {
   "cell_type": "markdown",
   "metadata": {
    "id": "J89i6sH_RJC-"
   },
   "source": [
    "## Neural Network Model"
   ]
  },
  {
   "cell_type": "code",
   "execution_count": null,
   "metadata": {
    "colab": {
     "base_uri": "https://localhost:8080/"
    },
    "id": "xd3RDZ4URN-y",
    "outputId": "516b4e88-1ef9-4c8d-88af-1c4338574df4"
   },
   "outputs": [
    {
     "data": {
      "text/plain": [
       "[name: \"/device:CPU:0\"\n",
       " device_type: \"CPU\"\n",
       " memory_limit: 268435456\n",
       " locality {\n",
       " }\n",
       " incarnation: 15098055429328670261, name: \"/device:XLA_CPU:0\"\n",
       " device_type: \"XLA_CPU\"\n",
       " memory_limit: 17179869184\n",
       " locality {\n",
       " }\n",
       " incarnation: 8063881950973144564\n",
       " physical_device_desc: \"device: XLA_CPU device\", name: \"/device:XLA_GPU:0\"\n",
       " device_type: \"XLA_GPU\"\n",
       " memory_limit: 17179869184\n",
       " locality {\n",
       " }\n",
       " incarnation: 8261380313957092714\n",
       " physical_device_desc: \"device: XLA_GPU device\", name: \"/device:GPU:0\"\n",
       " device_type: \"GPU\"\n",
       " memory_limit: 14640891840\n",
       " locality {\n",
       "   bus_id: 1\n",
       "   links {\n",
       "   }\n",
       " }\n",
       " incarnation: 13526097998939145098\n",
       " physical_device_desc: \"device: 0, name: Tesla T4, pci bus id: 0000:00:04.0, compute capability: 7.5\"]"
      ]
     },
     "execution_count": 4,
     "metadata": {
      "tags": []
     },
     "output_type": "execute_result"
    }
   ],
   "source": [
    "# getting device information\n",
    "from tensorflow.python.client import device_lib\n",
    "device_lib.list_local_devices()"
   ]
  },
  {
   "cell_type": "code",
   "execution_count": null,
   "metadata": {
    "colab": {
     "base_uri": "https://localhost:8080/"
    },
    "id": "_zp1i_TqSPKC",
    "outputId": "26540580-ee74-4dbe-aac8-31161f07947a"
   },
   "outputs": [
    {
     "name": "stdout",
     "output_type": "stream",
     "text": [
      "Model: \"functional_1\"\n",
      "_________________________________________________________________\n",
      "Layer (type)                 Output Shape              Param #   \n",
      "=================================================================\n",
      "input_1 (InputLayer)         [(None, 57)]              0         \n",
      "_________________________________________________________________\n",
      "dense (Dense)                (None, 64)                3712      \n",
      "_________________________________________________________________\n",
      "batch_normalization (BatchNo (None, 64)                256       \n",
      "_________________________________________________________________\n",
      "dropout (Dropout)            (None, 64)                0         \n",
      "_________________________________________________________________\n",
      "dense_1 (Dense)              (None, 32)                2080      \n",
      "_________________________________________________________________\n",
      "batch_normalization_1 (Batch (None, 32)                128       \n",
      "_________________________________________________________________\n",
      "dropout_1 (Dropout)          (None, 32)                0         \n",
      "_________________________________________________________________\n",
      "dense_2 (Dense)              (None, 16)                528       \n",
      "_________________________________________________________________\n",
      "batch_normalization_2 (Batch (None, 16)                64        \n",
      "_________________________________________________________________\n",
      "dropout_2 (Dropout)          (None, 16)                0         \n",
      "_________________________________________________________________\n",
      "dense_3 (Dense)              (None, 1)                 17        \n",
      "=================================================================\n",
      "Total params: 6,785\n",
      "Trainable params: 6,561\n",
      "Non-trainable params: 224\n",
      "_________________________________________________________________\n"
     ]
    }
   ],
   "source": [
    "init = tf.keras.initializers.HeUniform()\n",
    "regular = tf.keras.regularizers.l2(l2=0.01)\n",
    "\n",
    "# Input layer\n",
    "input_layer = Input(shape=(57,))\n",
    "\n",
    "# Dense hidden layer 1\n",
    "layer1 = Dense(64, activation='relu', kernel_initializer=init, kernel_regularizer=regular)(input_layer)\n",
    "\n",
    "# Batch Normalization layer 1\n",
    "b_norm1 = BatchNormalization()(layer1)\n",
    "\n",
    "# Dropout layer 1\n",
    "drop1 = Dropout(rate=0.5)(b_norm1)\n",
    "\n",
    "# Dense hidden layer 2\n",
    "layer2 = Dense(32, activation='relu', kernel_initializer=init, kernel_regularizer=regular)(drop1)\n",
    "\n",
    "# Batch Normalization layer 2\n",
    "b_norm2 = BatchNormalization()(layer2)\n",
    "\n",
    "# Dropout layer 2\n",
    "drop2 = Dropout(rate=0.5)(b_norm2)\n",
    "\n",
    "# Dense hidden layer 3\n",
    "layer3 = Dense(16, activation='relu', kernel_initializer=init, kernel_regularizer=regular)(drop2)\n",
    "\n",
    "# Batch Normalization layer 3\n",
    "b_norm3 = BatchNormalization()(layer3)\n",
    "\n",
    "# Dropout layer 3\n",
    "drop3 = Dropout(rate=0.5)(b_norm3)\n",
    "\n",
    "# Output layer\n",
    "output_layer = Dense(1, activation='sigmoid', kernel_initializer=tf.keras.initializers.glorot_uniform(), kernel_regularizer=regular)(drop3)\n",
    "\n",
    "# Creating a model\n",
    "model = Model(inputs=input_layer, outputs=output_layer)\n",
    "\n",
    "# summary\n",
    "model.summary()"
   ]
  },
  {
   "cell_type": "code",
   "execution_count": null,
   "metadata": {
    "id": "YEXPePlRSPHp"
   },
   "outputs": [],
   "source": [
    "# Compile model\n",
    "adam = tf.keras.optimizers.Adam()\n",
    "\n",
    "model.compile(loss='binary_crossentropy', optimizer=adam, metrics=['accuracy'])"
   ]
  },
  {
   "cell_type": "code",
   "execution_count": null,
   "metadata": {
    "id": "YjBAeN2RSPE7"
   },
   "outputs": [],
   "source": [
    "filepath = \"drive/My Drive/KKBox/best_model.h5\"\n",
    "checkpoint = ModelCheckpoint(filepath=filepath, monitor='val_loss', verbose=1, save_best_only=True, mode='min')\n",
    "\n",
    "es = EarlyStopping(monitor='val_loss', patience=3, mode='min', verbose=1, restore_best_weights=True)\n",
    "\n",
    "cb = [es, checkpoint]"
   ]
  },
  {
   "cell_type": "code",
   "execution_count": null,
   "metadata": {
    "colab": {
     "base_uri": "https://localhost:8080/"
    },
    "id": "IngI3hIWSPCA",
    "outputId": "080d180c-7194-484c-ef1b-b10e302c4593"
   },
   "outputs": [
    {
     "name": "stdout",
     "output_type": "stream",
     "text": [
      "Epoch 1/10\n",
      "3026/3035 [============================>.] - ETA: 0s - loss: 0.3991 - accuracy: 0.9202\n",
      "Epoch 00001: val_loss improved from inf to 0.33759, saving model to drive/My Drive/KKBox/best_model.h5\n",
      "3035/3035 [==============================] - 15s 5ms/step - loss: 0.3985 - accuracy: 0.9203 - val_loss: 0.3376 - val_accuracy: 0.9324\n",
      "Epoch 2/10\n",
      "3032/3035 [============================>.] - ETA: 0s - loss: 0.1625 - accuracy: 0.9532\n",
      "Epoch 00002: val_loss improved from 0.33759 to 0.22080, saving model to drive/My Drive/KKBox/best_model.h5\n",
      "3035/3035 [==============================] - 15s 5ms/step - loss: 0.1625 - accuracy: 0.9532 - val_loss: 0.2208 - val_accuracy: 0.9493\n",
      "Epoch 3/10\n",
      "3035/3035 [==============================] - ETA: 0s - loss: 0.1549 - accuracy: 0.9530\n",
      "Epoch 00003: val_loss did not improve from 0.22080\n",
      "3035/3035 [==============================] - 15s 5ms/step - loss: 0.1549 - accuracy: 0.9530 - val_loss: 0.7959 - val_accuracy: 0.3293\n",
      "Epoch 4/10\n",
      "3034/3035 [============================>.] - ETA: 0s - loss: 0.1532 - accuracy: 0.9531\n",
      "Epoch 00004: val_loss improved from 0.22080 to 0.13613, saving model to drive/My Drive/KKBox/best_model.h5\n",
      "3035/3035 [==============================] - 15s 5ms/step - loss: 0.1532 - accuracy: 0.9531 - val_loss: 0.1361 - val_accuracy: 0.9574\n",
      "Epoch 5/10\n",
      "3033/3035 [============================>.] - ETA: 0s - loss: 0.1519 - accuracy: 0.9533\n",
      "Epoch 00005: val_loss did not improve from 0.13613\n",
      "3035/3035 [==============================] - 15s 5ms/step - loss: 0.1519 - accuracy: 0.9533 - val_loss: 0.1875 - val_accuracy: 0.9165\n",
      "Epoch 6/10\n",
      "3032/3035 [============================>.] - ETA: 0s - loss: 0.1526 - accuracy: 0.9529\n",
      "Epoch 00006: val_loss did not improve from 0.13613\n",
      "3035/3035 [==============================] - 15s 5ms/step - loss: 0.1526 - accuracy: 0.9529 - val_loss: 0.2432 - val_accuracy: 0.9210\n",
      "Epoch 7/10\n",
      "3026/3035 [============================>.] - ETA: 0s - loss: 0.1516 - accuracy: 0.9532Restoring model weights from the end of the best epoch.\n",
      "\n",
      "Epoch 00007: val_loss did not improve from 0.13613\n",
      "3035/3035 [==============================] - 15s 5ms/step - loss: 0.1516 - accuracy: 0.9532 - val_loss: 0.1534 - val_accuracy: 0.9553\n",
      "Epoch 00007: early stopping\n"
     ]
    }
   ],
   "source": [
    "# Fit the model\n",
    "history = model.fit(X_train, y_train, epochs=10, batch_size=256, validation_data=(X_cv, y_cv), verbose=1, callbacks=cb)"
   ]
  },
  {
   "cell_type": "code",
   "execution_count": null,
   "metadata": {
    "colab": {
     "base_uri": "https://localhost:8080/",
     "height": 294
    },
    "id": "YtI86trjSO-v",
    "outputId": "77bac6e9-1385-4e54-81d4-2ae660fc915c"
   },
   "outputs": [
    {
     "data": {
      "image/png": "[encoded data removed]",
      "text/plain": [
       "<Figure size 432x288 with 1 Axes>"
      ]
     },
     "metadata": {
      "needs_background": "light",
      "tags": []
     },
     "output_type": "display_data"
    }
   ],
   "source": [
    "# loss comparison plot\n",
    "plt.plot(history.history['loss'])\n",
    "plt.plot(history.history['val_loss'])\n",
    "plt.title(\"Model's Loss Comparision\")\n",
    "plt.xlabel('epoch')\n",
    "plt.ylabel('loss')\n",
    "plt.legend(['Train loss', 'Test loss'], loc='upper right')\n",
    "plt.show()"
   ]
  },
  {
   "cell_type": "code",
   "execution_count": null,
   "metadata": {
    "colab": {
     "base_uri": "https://localhost:8080/"
    },
    "id": "CH_4ZAD5SO7E",
    "outputId": "e45004ed-d946-495c-b60f-160a3659894e"
   },
   "outputs": [
    {
     "data": {
      "text/plain": [
       "array([0.02549033, 0.01600544, 0.01716729, ..., 0.02102195, 0.0169536 ,\n",
       "       0.01507807], dtype=float32)"
      ]
     },
     "execution_count": 10,
     "metadata": {
      "tags": []
     },
     "output_type": "execute_result"
    }
   ],
   "source": [
    "# loading best model from disk\n",
    "model = load_model('drive/My Drive/KKBox/best_model.h5')\n",
    "\n",
    "# predicting probabilities for test data\n",
    "pred_test = model.predict(test_data)\n",
    "# converting 2d array to 1d using flatten\n",
    "pred_test = pred_test.flatten()\n",
    "# getting probabilities\n",
    "pred_test"
   ]
  },
  {
   "cell_type": "code",
   "execution_count": null,
   "metadata": {
    "colab": {
     "base_uri": "https://localhost:8080/",
     "height": 197
    },
    "id": "elm0eALTVUhn",
    "outputId": "49d381fe-9bb7-4c85-8984-ae3911df9e6d"
   },
   "outputs": [
    {
     "data": {
      "text/html": [
       "<div>\n",
       "<style scoped>\n",
       "    .dataframe tbody tr th:only-of-type {\n",
       "        vertical-align: middle;\n",
       "    }\n",
       "\n",
       "    .dataframe tbody tr th {\n",
       "        vertical-align: top;\n",
       "    }\n",
       "\n",
       "    .dataframe thead th {\n",
       "        text-align: right;\n",
       "    }\n",
       "</style>\n",
       "<table border=\"1\" class=\"dataframe\">\n",
       "  <thead>\n",
       "    <tr style=\"text-align: right;\">\n",
       "      <th></th>\n",
       "      <th>msno</th>\n",
       "    </tr>\n",
       "  </thead>\n",
       "  <tbody>\n",
       "    <tr>\n",
       "      <th>0</th>\n",
       "      <td>4n+fXlyJvfQnTeKXTWT507Ll4JVYGrOC8LHCfwBmPE4=</td>\n",
       "    </tr>\n",
       "    <tr>\n",
       "      <th>1</th>\n",
       "      <td>aNmbC1GvFUxQyQUidCVmfbQ0YeCuwkPzEdQ0RwWyeZM=</td>\n",
       "    </tr>\n",
       "    <tr>\n",
       "      <th>2</th>\n",
       "      <td>rFC9eSG/tMuzpre6cwcMLZHEYM89xY02qcz7HL4//jc=</td>\n",
       "    </tr>\n",
       "    <tr>\n",
       "      <th>3</th>\n",
       "      <td>WZ59dLyrQcE7ft06MZ5dj40BnlYQY7PHgg/54+HaCSE=</td>\n",
       "    </tr>\n",
       "    <tr>\n",
       "      <th>4</th>\n",
       "      <td>aky/Iv8hMp1/V/yQHLtaVuEmmAxkB5GuasQZePJ7NU4=</td>\n",
       "    </tr>\n",
       "  </tbody>\n",
       "</table>\n",
       "</div>"
      ],
      "text/plain": [
       "                                           msno\n",
       "0  4n+fXlyJvfQnTeKXTWT507Ll4JVYGrOC8LHCfwBmPE4=\n",
       "1  aNmbC1GvFUxQyQUidCVmfbQ0YeCuwkPzEdQ0RwWyeZM=\n",
       "2  rFC9eSG/tMuzpre6cwcMLZHEYM89xY02qcz7HL4//jc=\n",
       "3  WZ59dLyrQcE7ft06MZ5dj40BnlYQY7PHgg/54+HaCSE=\n",
       "4  aky/Iv8hMp1/V/yQHLtaVuEmmAxkB5GuasQZePJ7NU4="
      ]
     },
     "execution_count": 13,
     "metadata": {
      "tags": []
     },
     "output_type": "execute_result"
    }
   ],
   "source": [
    "# loading sample submission file\n",
    "submit = pd.read_csv('drive/My Drive/KKBox/sample_submission_v2.csv')\n",
    "# dropping default class labels\n",
    "submit = submit.drop('is_churn', axis=1, inplace=False)\n",
    "# getting head(top 5 rows)\n",
    "submit.head()"
   ]
  },
  {
   "cell_type": "code",
   "execution_count": null,
   "metadata": {
    "colab": {
     "base_uri": "https://localhost:8080/",
     "height": 197
    },
    "id": "wbzXrMuMVUUd",
    "outputId": "ede6bab8-e394-4cc0-f405-0b22969588df"
   },
   "outputs": [
    {
     "data": {
      "text/html": [
       "<div>\n",
       "<style scoped>\n",
       "    .dataframe tbody tr th:only-of-type {\n",
       "        vertical-align: middle;\n",
       "    }\n",
       "\n",
       "    .dataframe tbody tr th {\n",
       "        vertical-align: top;\n",
       "    }\n",
       "\n",
       "    .dataframe thead th {\n",
       "        text-align: right;\n",
       "    }\n",
       "</style>\n",
       "<table border=\"1\" class=\"dataframe\">\n",
       "  <thead>\n",
       "    <tr style=\"text-align: right;\">\n",
       "      <th></th>\n",
       "      <th>msno</th>\n",
       "      <th>is_churn</th>\n",
       "    </tr>\n",
       "  </thead>\n",
       "  <tbody>\n",
       "    <tr>\n",
       "      <th>0</th>\n",
       "      <td>4n+fXlyJvfQnTeKXTWT507Ll4JVYGrOC8LHCfwBmPE4=</td>\n",
       "      <td>0.015294</td>\n",
       "    </tr>\n",
       "    <tr>\n",
       "      <th>1</th>\n",
       "      <td>aNmbC1GvFUxQyQUidCVmfbQ0YeCuwkPzEdQ0RwWyeZM=</td>\n",
       "      <td>0.009603</td>\n",
       "    </tr>\n",
       "    <tr>\n",
       "      <th>2</th>\n",
       "      <td>rFC9eSG/tMuzpre6cwcMLZHEYM89xY02qcz7HL4//jc=</td>\n",
       "      <td>0.010300</td>\n",
       "    </tr>\n",
       "    <tr>\n",
       "      <th>3</th>\n",
       "      <td>WZ59dLyrQcE7ft06MZ5dj40BnlYQY7PHgg/54+HaCSE=</td>\n",
       "      <td>0.013388</td>\n",
       "    </tr>\n",
       "    <tr>\n",
       "      <th>4</th>\n",
       "      <td>aky/Iv8hMp1/V/yQHLtaVuEmmAxkB5GuasQZePJ7NU4=</td>\n",
       "      <td>0.020817</td>\n",
       "    </tr>\n",
       "  </tbody>\n",
       "</table>\n",
       "</div>"
      ],
      "text/plain": [
       "                                           msno  is_churn\n",
       "0  4n+fXlyJvfQnTeKXTWT507Ll4JVYGrOC8LHCfwBmPE4=  0.015294\n",
       "1  aNmbC1GvFUxQyQUidCVmfbQ0YeCuwkPzEdQ0RwWyeZM=  0.009603\n",
       "2  rFC9eSG/tMuzpre6cwcMLZHEYM89xY02qcz7HL4//jc=  0.010300\n",
       "3  WZ59dLyrQcE7ft06MZ5dj40BnlYQY7PHgg/54+HaCSE=  0.013388\n",
       "4  aky/Iv8hMp1/V/yQHLtaVuEmmAxkB5GuasQZePJ7NU4=  0.020817"
      ]
     },
     "execution_count": 15,
     "metadata": {
      "tags": []
     },
     "output_type": "execute_result"
    }
   ],
   "source": [
    "# multiplying 0.6 with class labels, and assigning them to new feature 'is_churn'\n",
    "submit['is_churn'] = pred_test * 0.6\n",
    "# getting head(top 5 rows)\n",
    "submit.head()"
   ]
  },
  {
   "cell_type": "code",
   "execution_count": null,
   "metadata": {
    "id": "EFI-nhhnWeop"
   },
   "outputs": [],
   "source": [
    "# saving csv file to the disk\n",
    "submit.to_csv('drive/My Drive/KKBox/submission_ffnn06.csv', index=False)"
   ]
  },
  {
   "cell_type": "markdown",
   "metadata": {
    "id": "QHN26wTHjp3Y"
   },
   "source": [
    "**By using this model I got 0.12291 as public leaderboard test log-loss, and 0.12209 as private leaderboard test log-loss.**"
   ]
  },
  {
   "attachments": {
    "image.png": {
     "image/png": "[encoded data removed]"
    }
   },
   "cell_type": "markdown",
   "metadata": {},
   "source": [
    "![image.png](attachment:image.png)"
   ]
  },
  {
   "cell_type": "markdown",
   "metadata": {
    "id": "QBXanZiIPg7y"
   },
   "source": [
    "## Simple Average Model"
   ]
  },
  {
   "cell_type": "code",
   "execution_count": null,
   "metadata": {
    "id": "_zYG9yFQPg7z"
   },
   "outputs": [],
   "source": [
    "# loading lightGBM model\n",
    "lgb_model = lgb.Booster(model_file='finalized_model_lgb_train_2.sav')\n",
    "\n",
    "# lading xgboost model\n",
    "xgb_model = xgb.Booster(model_file='finalized_model_xgb_train.sav')"
   ]
  },
  {
   "cell_type": "code",
   "execution_count": null,
   "metadata": {
    "id": "gF5uuOgbPg74"
   },
   "outputs": [],
   "source": [
    "# creating DMatrix for train, cv and test data\n",
    "xgb_train = xgb.DMatrix(X_train, label=y_train, feature_names=cols, nthread=-1)\n",
    "xgb_cv = xgb.DMatrix(X_cv, label=y_cv, feature_names=cols, nthread=-1)\n",
    "xgb_test = xgb.DMatrix(test_data, feature_names=cols, nthread=-1)"
   ]
  },
  {
   "cell_type": "code",
   "execution_count": null,
   "metadata": {
    "id": "Cae1spORPg7-"
   },
   "outputs": [],
   "source": [
    "# predicting from lgb_model\n",
    "pred_train_lgb = lgb_model.predict(X_train)\n",
    "# predicting from xgboost model\n",
    "pred_train_xgb = xgb_model.predict(xgb_train)\n",
    "\n",
    "\n",
    "# predicting from lgb_model\n",
    "pred_cv_lgb = lgb_model.predict(X_cv)\n",
    "# predicting from xgboost model\n",
    "pred_cv_xgb = xgb_model.predict(xgb_cv)\n",
    "\n",
    "\n",
    "# predicting from lgb_model\n",
    "pred_test_lgb = lgb_model.predict(test_data)\n",
    "# predicting from xgboost model\n",
    "pred_test_xgb = xgb_model.predict(xgb_test)"
   ]
  },
  {
   "cell_type": "code",
   "execution_count": null,
   "metadata": {
    "id": "9TPdovATPg8F"
   },
   "outputs": [],
   "source": [
    "# combined averaged train \n",
    "com_train = (pred_train_lgb + pred_train_xgb) / 2\n",
    "\n",
    "# combined averaged cv\n",
    "com_cv = (pred_cv_lgb + pred_cv_xgb) / 2\n",
    "\n",
    "# combined averaged test\n",
    "com_test = (pred_test_lgb + pred_test_xgb) / 2"
   ]
  },
  {
   "cell_type": "code",
   "execution_count": null,
   "metadata": {
    "id": "mW8Ljpx9Pg8M",
    "outputId": "b6196a6c-1c76-4eac-d77b-466640166c0c"
   },
   "outputs": [
    {
     "name": "stdout",
     "output_type": "stream",
     "text": [
      "Train log-loss 0.07883471856081796\n",
      "CV log-loss 0.07951306454211987\n"
     ]
    }
   ],
   "source": [
    "print('Train log-loss', log_loss(y_train, com_train))\n",
    "print('CV log-loss', log_loss(y_cv, com_cv))"
   ]
  },
  {
   "cell_type": "code",
   "execution_count": null,
   "metadata": {
    "id": "BsY_n4LNPg8W",
    "outputId": "ac1ef382-ff88-4902-9677-a3bae4c900b1"
   },
   "outputs": [
    {
     "data": {
      "text/plain": [
       "array([0.0152906 , 0.02263511, 0.0152906 , ..., 0.0152906 , 0.01857474,\n",
       "       0.0152906 ])"
      ]
     },
     "execution_count": 10,
     "metadata": {
      "tags": []
     },
     "output_type": "execute_result"
    }
   ],
   "source": [
    "# getting test probabilities\n",
    "com_test"
   ]
  },
  {
   "cell_type": "code",
   "execution_count": null,
   "metadata": {
    "id": "kInNqbrfPg8e",
    "outputId": "98ae7f87-9efd-48af-e659-4e7d15ecb86f"
   },
   "outputs": [
    {
     "data": {
      "text/html": [
       "<div>\n",
       "<style scoped>\n",
       "    .dataframe tbody tr th:only-of-type {\n",
       "        vertical-align: middle;\n",
       "    }\n",
       "\n",
       "    .dataframe tbody tr th {\n",
       "        vertical-align: top;\n",
       "    }\n",
       "\n",
       "    .dataframe thead th {\n",
       "        text-align: right;\n",
       "    }\n",
       "</style>\n",
       "<table border=\"1\" class=\"dataframe\">\n",
       "  <thead>\n",
       "    <tr style=\"text-align: right;\">\n",
       "      <th></th>\n",
       "      <th>msno</th>\n",
       "    </tr>\n",
       "  </thead>\n",
       "  <tbody>\n",
       "    <tr>\n",
       "      <th>0</th>\n",
       "      <td>4n+fXlyJvfQnTeKXTWT507Ll4JVYGrOC8LHCfwBmPE4=</td>\n",
       "    </tr>\n",
       "    <tr>\n",
       "      <th>1</th>\n",
       "      <td>aNmbC1GvFUxQyQUidCVmfbQ0YeCuwkPzEdQ0RwWyeZM=</td>\n",
       "    </tr>\n",
       "    <tr>\n",
       "      <th>2</th>\n",
       "      <td>rFC9eSG/tMuzpre6cwcMLZHEYM89xY02qcz7HL4//jc=</td>\n",
       "    </tr>\n",
       "    <tr>\n",
       "      <th>3</th>\n",
       "      <td>WZ59dLyrQcE7ft06MZ5dj40BnlYQY7PHgg/54+HaCSE=</td>\n",
       "    </tr>\n",
       "    <tr>\n",
       "      <th>4</th>\n",
       "      <td>aky/Iv8hMp1/V/yQHLtaVuEmmAxkB5GuasQZePJ7NU4=</td>\n",
       "    </tr>\n",
       "  </tbody>\n",
       "</table>\n",
       "</div>"
      ],
      "text/plain": [
       "                                           msno\n",
       "0  4n+fXlyJvfQnTeKXTWT507Ll4JVYGrOC8LHCfwBmPE4=\n",
       "1  aNmbC1GvFUxQyQUidCVmfbQ0YeCuwkPzEdQ0RwWyeZM=\n",
       "2  rFC9eSG/tMuzpre6cwcMLZHEYM89xY02qcz7HL4//jc=\n",
       "3  WZ59dLyrQcE7ft06MZ5dj40BnlYQY7PHgg/54+HaCSE=\n",
       "4  aky/Iv8hMp1/V/yQHLtaVuEmmAxkB5GuasQZePJ7NU4="
      ]
     },
     "execution_count": 11,
     "metadata": {
      "tags": []
     },
     "output_type": "execute_result"
    }
   ],
   "source": [
    "# loading sample submission file\n",
    "submit = pd.read_csv('../Data/sample_submission_v2.csv')\n",
    "# dropping 'is_churn' feature\n",
    "submit = submit.drop('is_churn', axis=1, inplace=False)\n",
    "# getting head(top 5 rows)\n",
    "submit.head()"
   ]
  },
  {
   "cell_type": "code",
   "execution_count": null,
   "metadata": {
    "id": "SR3BqFNyPg8n",
    "outputId": "df0f2cd5-99d3-4620-f6e6-f19fb9ecb866"
   },
   "outputs": [
    {
     "data": {
      "text/html": [
       "<div>\n",
       "<style scoped>\n",
       "    .dataframe tbody tr th:only-of-type {\n",
       "        vertical-align: middle;\n",
       "    }\n",
       "\n",
       "    .dataframe tbody tr th {\n",
       "        vertical-align: top;\n",
       "    }\n",
       "\n",
       "    .dataframe thead th {\n",
       "        text-align: right;\n",
       "    }\n",
       "</style>\n",
       "<table border=\"1\" class=\"dataframe\">\n",
       "  <thead>\n",
       "    <tr style=\"text-align: right;\">\n",
       "      <th></th>\n",
       "      <th>msno</th>\n",
       "      <th>is_churn</th>\n",
       "    </tr>\n",
       "  </thead>\n",
       "  <tbody>\n",
       "    <tr>\n",
       "      <th>0</th>\n",
       "      <td>4n+fXlyJvfQnTeKXTWT507Ll4JVYGrOC8LHCfwBmPE4=</td>\n",
       "      <td>0.009174</td>\n",
       "    </tr>\n",
       "    <tr>\n",
       "      <th>1</th>\n",
       "      <td>aNmbC1GvFUxQyQUidCVmfbQ0YeCuwkPzEdQ0RwWyeZM=</td>\n",
       "      <td>0.013581</td>\n",
       "    </tr>\n",
       "    <tr>\n",
       "      <th>2</th>\n",
       "      <td>rFC9eSG/tMuzpre6cwcMLZHEYM89xY02qcz7HL4//jc=</td>\n",
       "      <td>0.009174</td>\n",
       "    </tr>\n",
       "    <tr>\n",
       "      <th>3</th>\n",
       "      <td>WZ59dLyrQcE7ft06MZ5dj40BnlYQY7PHgg/54+HaCSE=</td>\n",
       "      <td>0.009174</td>\n",
       "    </tr>\n",
       "    <tr>\n",
       "      <th>4</th>\n",
       "      <td>aky/Iv8hMp1/V/yQHLtaVuEmmAxkB5GuasQZePJ7NU4=</td>\n",
       "      <td>0.011122</td>\n",
       "    </tr>\n",
       "  </tbody>\n",
       "</table>\n",
       "</div>"
      ],
      "text/plain": [
       "                                           msno  is_churn\n",
       "0  4n+fXlyJvfQnTeKXTWT507Ll4JVYGrOC8LHCfwBmPE4=  0.009174\n",
       "1  aNmbC1GvFUxQyQUidCVmfbQ0YeCuwkPzEdQ0RwWyeZM=  0.013581\n",
       "2  rFC9eSG/tMuzpre6cwcMLZHEYM89xY02qcz7HL4//jc=  0.009174\n",
       "3  WZ59dLyrQcE7ft06MZ5dj40BnlYQY7PHgg/54+HaCSE=  0.009174\n",
       "4  aky/Iv8hMp1/V/yQHLtaVuEmmAxkB5GuasQZePJ7NU4=  0.011122"
      ]
     },
     "execution_count": 12,
     "metadata": {
      "tags": []
     },
     "output_type": "execute_result"
    }
   ],
   "source": [
    "# multiplying probabilities with 0.6\n",
    "submit['is_churn'] = com_test * 0.60\n",
    "# getting head(top 5 rows)\n",
    "submit.head()"
   ]
  },
  {
   "cell_type": "code",
   "execution_count": null,
   "metadata": {
    "id": "ADLlsg-PPg8w"
   },
   "outputs": [],
   "source": [
    "# saving csv\n",
    "submit.to_csv('submission_com_avg_model.csv', index=False)"
   ]
  },
  {
   "cell_type": "markdown",
   "metadata": {
    "id": "akQgwZImPg80"
   },
   "source": [
    "**By using this model I got 0.12660 on public leaderboard as test log-loss and 0.12562 on private leaderboard as test log-loss.**"
   ]
  },
  {
   "attachments": {
    "image.png": {
     "image/png": "[encoded data removed]"
    }
   },
   "cell_type": "markdown",
   "metadata": {},
   "source": [
    "![image.png](attachment:image.png)"
   ]
  }
 ],
 "metadata": {
  "accelerator": "GPU",
  "colab": {
   "collapsed_sections": [],
   "name": "Modeling.ipynb",
   "provenance": [],
   "toc_visible": true
  },
  "kernelspec": {
   "display_name": "Python 3",
   "language": "python",
   "name": "python3"
  },
  "language_info": {
   "codemirror_mode": {
    "name": "ipython",
    "version": 3
   },
   "file_extension": ".py",
   "mimetype": "text/x-python",
   "name": "python",
   "nbconvert_exporter": "python",
   "pygments_lexer": "ipython3",
   "version": "3.7.4"
  }
 },
 "nbformat": 4,
 "nbformat_minor": 1
}
